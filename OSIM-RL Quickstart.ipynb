{
 "cells": [
  {
   "cell_type": "code",
   "execution_count": 1,
   "metadata": {},
   "outputs": [
    {
     "ename": "ModuleNotFoundError",
     "evalue": "No module named 'osim'",
     "output_type": "error",
     "traceback": [
      "\u001b[1;31m---------------------------------------------------------------------------\u001b[0m",
      "\u001b[1;31mModuleNotFoundError\u001b[0m                       Traceback (most recent call last)",
      "\u001b[1;32m<ipython-input-1-794d02e09596>\u001b[0m in \u001b[0;36m<module>\u001b[1;34m\u001b[0m\n\u001b[1;32m----> 1\u001b[1;33m \u001b[1;32mfrom\u001b[0m \u001b[0mosim\u001b[0m\u001b[1;33m.\u001b[0m\u001b[0menv\u001b[0m \u001b[1;32mimport\u001b[0m \u001b[0mL2RunEnv\u001b[0m\u001b[1;33m\u001b[0m\u001b[0m\n\u001b[0m\u001b[0;32m      2\u001b[0m \u001b[1;32mimport\u001b[0m \u001b[0mnumpy\u001b[0m \u001b[1;32mas\u001b[0m \u001b[0mnp\u001b[0m\u001b[1;33m\u001b[0m\u001b[0m\n\u001b[0;32m      3\u001b[0m \u001b[1;32mfrom\u001b[0m \u001b[0mosim\u001b[0m\u001b[1;33m.\u001b[0m\u001b[0menv\u001b[0m \u001b[1;32mimport\u001b[0m \u001b[0mProstheticsEnv\u001b[0m\u001b[1;33m\u001b[0m\u001b[0m\n\u001b[0;32m      4\u001b[0m \u001b[1;32mimport\u001b[0m \u001b[0mtorch\u001b[0m\u001b[1;33m\u001b[0m\u001b[0m\n\u001b[0;32m      5\u001b[0m \u001b[1;32mimport\u001b[0m \u001b[0mmatplotlib\u001b[0m\u001b[1;33m.\u001b[0m\u001b[0mpyplot\u001b[0m \u001b[1;32mas\u001b[0m \u001b[0mplt\u001b[0m\u001b[1;33m\u001b[0m\u001b[0m\n",
      "\u001b[1;31mModuleNotFoundError\u001b[0m: No module named 'osim'"
     ]
    }
   ],
   "source": [
    "from osim.env import L2RunEnv\n",
    "import numpy as np\n",
    "from osim.env import ProstheticsEnv\n",
    "import torch\n",
    "import matplotlib.pyplot as plt\n",
    "import scipy.stats as stats"
   ]
  },
  {
   "cell_type": "code",
   "execution_count": 2,
   "metadata": {},
   "outputs": [],
   "source": [
    "def tcov(m, y=None):\n",
    "    if y is not None:\n",
    "        m = torch.cat((m, y), dim=0)\n",
    "    m_exp = torch.mean(m, dim=1)\n",
    "    x = m - m_exp[:, None]\n",
    "    cov = 1 / (x.size(1) - 1) * x.mm(x.t())\n",
    "    return cov"
   ]
  },
  {
   "cell_type": "code",
   "execution_count": 3,
   "metadata": {},
   "outputs": [],
   "source": [
    "half_muscle_names = [\n",
    "    \"hamstring\",\n",
    "    \"biceps femoris\",\n",
    "    \"gluteus maximus\",\n",
    "    \"iliopsoas\",\n",
    "    \"rectus femoris\",\n",
    "    \"vastus\",\n",
    "    \"gastrocnemius\",\n",
    "    \"soleus\",\n",
    "    \"tibialis anterior\"\n",
    "]\n",
    "muscle_names = []\n",
    "for mn in half_muscle_names:\n",
    "    muscle_names.append(mn + \"_right\")\n",
    "for mn in half_muscle_names:\n",
    "    muscle_names.append(mn + \"_left\")\n",
    "\n",
    "colors = ['C' + str(j) for j in range(10)]\n",
    "# colors = ['c0']"
   ]
  },
  {
   "cell_type": "code",
   "execution_count": 4,
   "metadata": {},
   "outputs": [],
   "source": [
    "pydata = np.load('returns/skelefactor_montecarlo_bern1548857873.1717434.npy')"
   ]
  },
  {
   "cell_type": "code",
   "execution_count": 5,
   "metadata": {},
   "outputs": [
    {
     "data": {
      "text/plain": [
       "[<matplotlib.lines.Line2D at 0x1e8038e29b0>]"
      ]
     },
     "execution_count": 5,
     "metadata": {},
     "output_type": "execute_result"
    },
    {
     "data": {
      "image/png": "[encoded data removed]",
      "text/plain": [
       "<Figure size 432x288 with 1 Axes>"
      ]
     },
     "metadata": {
      "needs_background": "light"
     },
     "output_type": "display_data"
    }
   ],
   "source": [
    "plt.plot(pydata)"
   ]
  },
  {
   "cell_type": "code",
   "execution_count": 2,
   "metadata": {},
   "outputs": [
    {
     "ename": "NameError",
     "evalue": "name 'env' is not defined",
     "output_type": "error",
     "traceback": [
      "\u001b[1;31m---------------------------------------------------------------------------\u001b[0m",
      "\u001b[1;31mNameError\u001b[0m                                 Traceback (most recent call last)",
      "\u001b[1;32m<ipython-input-2-6107e0c3c12a>\u001b[0m in \u001b[0;36m<module>\u001b[1;34m()\u001b[0m\n\u001b[1;32m----> 1\u001b[1;33m \u001b[0mobservation\u001b[0m \u001b[1;33m=\u001b[0m \u001b[0menv\u001b[0m\u001b[1;33m.\u001b[0m\u001b[0mreset\u001b[0m\u001b[1;33m(\u001b[0m\u001b[0mproject\u001b[0m\u001b[1;33m=\u001b[0m\u001b[1;32mTrue\u001b[0m\u001b[1;33m)\u001b[0m\u001b[1;33m\u001b[0m\u001b[0m\n\u001b[0m",
      "\u001b[1;31mNameError\u001b[0m: name 'env' is not defined"
     ]
    }
   ],
   "source": [
    "observation = env.reset(project=True)"
   ]
  },
  {
   "cell_type": "code",
   "execution_count": 9,
   "metadata": {},
   "outputs": [],
   "source": [
    "model_path = 'trained_models/skelefactor_montecarlo_bern.pt'\n",
    "data = torch.load(model_path)\n"
   ]
  },
  {
   "cell_type": "code",
   "execution_count": 10,
   "metadata": {},
   "outputs": [
    {
     "data": {
      "text/plain": [
       "OrderedDict([('base.actor.0.weight',\n",
       "              tensor([[ 0.3767,  0.0054,  0.2292,  ..., -0.0944, -0.2623, -0.0907],\n",
       "                      [-0.0301, -0.1602, -0.0433,  ..., -0.0092,  0.2020,  0.0837],\n",
       "                      [ 0.0792, -0.0539,  0.1521,  ..., -0.2077, -0.2789,  0.1078],\n",
       "                      ...,\n",
       "                      [-0.0504,  0.0098,  0.1456,  ...,  0.0114,  0.0666,  0.0027],\n",
       "                      [ 0.1772,  0.1702, -0.1044,  ...,  0.0311, -0.0041, -0.0144],\n",
       "                      [ 0.0735, -0.0634,  0.0406,  ..., -0.2188, -0.0818,  0.0773]])),\n",
       "             ('base.actor.0.bias',\n",
       "              tensor([ 0.1050, -0.0333,  0.0027,  0.0233, -0.0350, -0.1583, -0.1369,  0.0505,\n",
       "                       0.0640, -0.0686, -0.1145,  0.1379,  0.0377,  0.1397, -0.0486,  0.0446,\n",
       "                       0.0586, -0.0424, -0.0617,  0.1230,  0.0693,  0.0075, -0.0760, -0.0905,\n",
       "                       0.1232, -0.0128, -0.1683, -0.0237,  0.0057,  0.0523, -0.0552,  0.0147,\n",
       "                      -0.0729, -0.0901, -0.0362,  0.0666,  0.1269, -0.0394,  0.0594,  0.0256,\n",
       "                       0.1911,  0.0424,  0.0425,  0.0379,  0.0295,  0.0451, -0.0878, -0.0745,\n",
       "                       0.0181, -0.0313,  0.0916, -0.0338,  0.0656, -0.1272,  0.0005,  0.0341,\n",
       "                      -0.0873,  0.0093,  0.0572, -0.0465, -0.0037, -0.0203,  0.0854,  0.1410])),\n",
       "             ('base.actor.2.weight',\n",
       "              tensor([[-0.2569, -0.1165, -0.2634,  ...,  0.0633, -0.2679,  0.0806],\n",
       "                      [ 0.0521,  0.1413,  0.1735,  ..., -0.0795,  0.0996,  0.2214],\n",
       "                      [-0.0507, -0.0608, -0.0542,  ..., -0.1393, -0.0088,  0.0387],\n",
       "                      ...,\n",
       "                      [ 0.0557,  0.0399,  0.0969,  ...,  0.0561,  0.0142,  0.0485],\n",
       "                      [ 0.0182,  0.2423,  0.2066,  ..., -0.0691, -0.0595, -0.1209],\n",
       "                      [-0.3193, -0.1445,  0.0149,  ..., -0.2810, -0.1072,  0.0269]])),\n",
       "             ('base.actor.2.bias',\n",
       "              tensor([-0.0243,  0.0264,  0.0800, -0.0140,  0.0338,  0.0131,  0.0701, -0.0361,\n",
       "                       0.0405,  0.0081, -0.0553, -0.0650,  0.0247, -0.0088,  0.0289, -0.0048,\n",
       "                       0.0030,  0.0406, -0.0014, -0.0421, -0.0250,  0.0153, -0.0828, -0.0252,\n",
       "                       0.0045,  0.1045, -0.0735,  0.1003, -0.0475, -0.0003,  0.0482,  0.0295,\n",
       "                       0.0256, -0.0339,  0.0733,  0.0064, -0.0206,  0.0134,  0.0201,  0.0395,\n",
       "                      -0.0136, -0.0562,  0.0233,  0.0199,  0.0361,  0.0096,  0.0508,  0.0850,\n",
       "                       0.0043, -0.0050,  0.0223,  0.0344, -0.0330,  0.0023,  0.0141, -0.0055,\n",
       "                       0.0288, -0.0273,  0.0224,  0.0076, -0.1326, -0.0459, -0.0649, -0.0141])),\n",
       "             ('base.actor.4.weight',\n",
       "              tensor([[ 0.2913, -0.1448,  0.1087,  0.4613, -0.2154, -0.2451,  0.0239, -0.0625,\n",
       "                       -0.1434,  0.0996, -0.1754,  0.0873, -0.1384,  0.2389, -0.0716,  0.0726,\n",
       "                        0.2705, -0.2002,  0.0287,  0.1037, -0.2496, -0.1538,  0.1377,  0.0572,\n",
       "                       -0.1637,  0.1862,  0.2954,  0.0051, -0.0089,  0.4411, -0.0192, -0.0574,\n",
       "                       -0.0818, -0.2921,  0.4859,  0.2909,  0.1205, -0.0835, -0.3840,  0.3099,\n",
       "                        0.1632,  0.3075, -0.1715,  0.4932,  0.2935, -0.4598, -0.0082, -0.1207,\n",
       "                       -0.0131, -0.2888,  0.5040, -0.1189,  0.2845, -0.1039,  0.1308,  0.4112,\n",
       "                        0.0747,  0.1661, -0.0144, -0.0204, -0.0912,  0.2934, -0.2020, -0.2255],\n",
       "                      [-0.0868,  0.0361, -0.1629,  0.1846,  0.0285, -0.1627, -0.3890, -0.0961,\n",
       "                       -0.0237, -0.1119,  0.2339,  0.1191,  0.1687,  0.3487,  0.1358, -0.0543,\n",
       "                        0.0530, -0.4084,  0.1391, -0.1261, -0.2506, -0.3797,  0.4364, -0.0681,\n",
       "                       -0.3491, -0.0597,  0.5001, -0.2088,  0.3007,  0.1092, -0.1702, -0.2094,\n",
       "                       -0.3996, -0.0804,  0.2726,  0.3667, -0.0518, -0.3219, -0.4389,  0.0406,\n",
       "                        0.4179,  0.0990, -0.3187,  0.0283, -0.2123, -0.1125,  0.0416,  0.0064,\n",
       "                       -0.1177,  0.1310,  0.1740, -0.0724,  0.0979, -0.0318, -0.1946, -0.0445,\n",
       "                       -0.0796,  0.1168,  0.2534, -0.0648,  0.1890,  0.2895,  0.1498, -0.0148],\n",
       "                      [ 0.1303, -0.1349, -0.0297,  0.4977, -0.0344, -0.0904, -0.0797, -0.0314,\n",
       "                       -0.1035, -0.0362, -0.1214,  0.1971, -0.2907,  0.3111,  0.0585, -0.1239,\n",
       "                        0.0954, -0.0434, -0.1167,  0.3994, -0.2314, -0.3951,  0.5406,  0.0185,\n",
       "                       -0.0623,  0.1067,  0.4127,  0.2589,  0.1834,  0.3710, -0.2814, -0.3594,\n",
       "                       -0.1811, -0.2797,  0.3581,  0.2841,  0.0311, -0.0553, -0.1797,  0.0487,\n",
       "                        0.0708,  0.1855, -0.2514,  0.5458, -0.2280, -0.3960, -0.1977, -0.0477,\n",
       "                        0.1262, -0.3087,  0.3057, -0.1775,  0.1928,  0.0026, -0.0048,  0.1972,\n",
       "                       -0.0673,  0.5293,  0.0455, -0.4101, -0.1055,  0.3725,  0.1389, -0.0116],\n",
       "                      [-0.6397,  0.4551, -0.0071,  0.0093,  0.1218,  0.2276,  0.1826, -0.4540,\n",
       "                        0.1300, -0.3666,  0.0226,  0.1319, -0.1129,  0.1661, -0.0210, -0.2320,\n",
       "                        0.0232, -0.2702, -0.0241, -0.3697,  0.2815, -0.1318, -0.3208, -0.2287,\n",
       "                       -0.0011,  0.1014, -0.0209,  0.2700, -0.0529, -0.2479, -0.1773, -0.2653,\n",
       "                       -0.1021,  0.0969, -0.0567,  0.0910, -0.1935, -0.1522,  0.0425,  0.0746,\n",
       "                        0.0224, -0.4122, -0.2957, -0.2094,  0.1855,  0.1768,  0.5358,  0.2643,\n",
       "                        0.0927,  0.1273, -0.0228,  0.5423, -0.1459,  0.2188, -0.0364, -0.1391,\n",
       "                        0.4401, -0.0484,  0.5263,  0.2457, -0.0943, -0.0727, -0.1695, -0.0745],\n",
       "                      [ 0.2000, -0.0901, -0.1876,  0.2815, -0.1549, -0.5761,  0.0362,  0.1996,\n",
       "                       -0.1088, -0.2799, -0.1035, -0.0531, -0.2656,  0.5815,  0.0184, -0.1332,\n",
       "                        0.1644, -0.2047,  0.3476,  0.0803, -0.4376,  0.0044,  0.1250,  0.0863,\n",
       "                       -0.2016, -0.1276,  0.6062,  0.1173,  0.0269,  0.3817,  0.0433, -0.0806,\n",
       "                       -0.3358, -0.1445,  0.2102,  0.3332,  0.0576, -0.2239, -0.2390,  0.3169,\n",
       "                        0.0946,  0.0496, -0.3810,  0.4098,  0.3851, -0.2583, -0.1770, -0.2393,\n",
       "                        0.1969, -0.3891,  0.5318,  0.0864,  0.2314, -0.0366, -0.2407,  0.3071,\n",
       "                        0.0828,  0.2639, -0.0736, -0.0758,  0.2665,  0.4654, -0.0755, -0.3714],\n",
       "                      [ 0.0448, -0.0764,  0.3542,  0.0510, -0.2330,  0.0552, -0.0720,  0.0048,\n",
       "                        0.1477,  0.1189, -0.3130, -0.2035, -0.0106,  0.0897,  0.3038,  0.2941,\n",
       "                        0.3669, -0.0647,  0.4654, -0.0357, -0.3790, -0.1459,  0.1690, -0.2591,\n",
       "                       -0.0330,  0.2451,  0.1905, -0.2935,  0.0940,  0.2038,  0.3074,  0.0846,\n",
       "                        0.1469, -0.1931, -0.1392,  0.0730, -0.2622,  0.0314,  0.0907, -0.1010,\n",
       "                        0.3313,  0.1305,  0.0717,  0.0771, -0.1508, -0.0664, -0.1501,  0.2354,\n",
       "                       -0.0862, -0.0938,  0.0810, -0.4947,  0.3358, -0.5367, -0.2538,  0.2038,\n",
       "                       -0.2446, -0.0152,  0.0740,  0.0046, -0.2518,  0.0595,  0.0792,  0.1373],\n",
       "                      [-0.0412, -0.0916, -0.0924,  0.1881, -0.0634, -0.1967, -0.0148,  0.0207,\n",
       "                       -0.1989, -0.0795,  0.0907,  0.1042, -0.2947,  0.4110,  0.2932, -0.1744,\n",
       "                        0.1768, -0.2581,  0.1706,  0.2463, -0.0038, -0.1791,  0.1092, -0.0662,\n",
       "                       -0.4259, -0.2320,  0.4539, -0.1046,  0.3762,  0.4334,  0.0666, -0.3767,\n",
       "                       -0.2992, -0.3832,  0.3299,  0.2410, -0.1190, -0.4315, -0.3963,  0.0100,\n",
       "                        0.2666, -0.0153, -0.5665,  0.3557, -0.2801, -0.2795,  0.0595, -0.1113,\n",
       "                        0.1055, -0.3145,  0.3266,  0.0232, -0.0885,  0.1265, -0.0691, -0.0439,\n",
       "                       -0.0760,  0.0303, -0.0160, -0.1505,  0.1420,  0.4974,  0.1930, -0.0799]])),\n",
       "             ('base.critic.0.weight',\n",
       "              tensor([[-0.0084,  0.0290, -0.0259,  ...,  0.0457, -0.2904,  0.1831],\n",
       "                      [-0.0194, -0.2817, -0.1931,  ...,  0.0492, -0.0561,  0.0536],\n",
       "                      [ 0.0247,  0.0736, -0.0036,  ...,  0.0057,  0.2253,  0.0920],\n",
       "                      ...,\n",
       "                      [ 0.0401, -0.0818,  0.0960,  ..., -0.3227,  0.2643,  0.0379],\n",
       "                      [-0.0779,  0.0512,  0.0335,  ..., -0.1006, -0.2940,  0.0711],\n",
       "                      [-0.1559, -0.1392, -0.0501,  ...,  0.1968, -0.0719,  0.0454]])),\n",
       "             ('base.critic.0.bias',\n",
       "              tensor([-0.0035, -0.0015,  0.0094, -0.0336, -0.0222, -0.0094,  0.1132, -0.0504,\n",
       "                      -0.0164, -0.0061, -0.0044, -0.0184, -0.0476, -0.0036, -0.0437, -0.0071,\n",
       "                      -0.0704,  0.0366,  0.0909, -0.0587,  0.0160, -0.0345, -0.0650,  0.0460,\n",
       "                      -0.0221, -0.0026, -0.0122,  0.0073,  0.0002,  0.0859,  0.0627,  0.0853,\n",
       "                      -0.0086, -0.0216,  0.0344,  0.0149, -0.0377, -0.0154,  0.0645,  0.0828,\n",
       "                       0.0009, -0.0353,  0.0397,  0.0688,  0.0172, -0.0349, -0.0384,  0.0026,\n",
       "                       0.0123, -0.0011,  0.0135, -0.0084, -0.0068,  0.0189, -0.0388, -0.0079,\n",
       "                      -0.0607,  0.0344, -0.0282, -0.0380, -0.0362, -0.0494,  0.0072, -0.0270])),\n",
       "             ('base.critic.2.weight',\n",
       "              tensor([[ 7.1263e-02,  1.5137e-01, -1.5869e-01,  ..., -2.7274e-02,\n",
       "                       -2.2904e-01, -1.7599e-01],\n",
       "                      [-3.7792e-02,  2.4519e-01,  9.1784e-02,  ..., -6.1770e-02,\n",
       "                        2.4370e-02,  5.2466e-02],\n",
       "                      [ 6.0512e-02, -1.6087e-01, -1.1625e-01,  ...,  1.0448e-01,\n",
       "                        3.0018e-01, -2.2224e-02],\n",
       "                      ...,\n",
       "                      [ 1.5356e-01, -1.0218e-01,  1.3248e-01,  ..., -2.1109e-01,\n",
       "                       -1.0164e-01, -1.0608e-01],\n",
       "                      [-7.7870e-02, -8.3393e-02,  8.8921e-05,  ..., -7.5109e-02,\n",
       "                        1.7767e-02, -2.4238e-01],\n",
       "                      [ 4.6631e-02, -1.1313e-02,  4.6963e-02,  ..., -3.7600e-02,\n",
       "                        3.4885e-02,  9.3845e-03]])),\n",
       "             ('base.critic.2.bias',\n",
       "              tensor([ 0.0203, -0.0810, -0.0506,  0.0010,  0.0672, -0.0320, -0.1076, -0.0603,\n",
       "                       0.0854, -0.0089, -0.1244,  0.1497,  0.0601,  0.0979, -0.0063, -0.0149,\n",
       "                       0.0201,  0.1166,  0.0734,  0.0766,  0.0432,  0.0363, -0.1374,  0.0549,\n",
       "                       0.0311,  0.0741, -0.0276, -0.0631,  0.0562,  0.0862,  0.0166,  0.0438,\n",
       "                       0.0603, -0.0347, -0.0421, -0.0647,  0.1085,  0.0520,  0.0608,  0.0278,\n",
       "                      -0.0537,  0.0462, -0.0592, -0.1054, -0.0642,  0.0594, -0.0448, -0.0556,\n",
       "                       0.1210,  0.0387,  0.0634, -0.0792, -0.0733,  0.0166,  0.0581, -0.0518,\n",
       "                      -0.0710,  0.0478, -0.0731, -0.1397,  0.0620, -0.0502,  0.0887, -0.0629])),\n",
       "             ('base.critic_linear.weight',\n",
       "              tensor([[ 0.0394, -0.1595, -0.0221,  0.0025,  0.1053, -0.0448, -0.2225, -0.1864,\n",
       "                        0.1687,  0.0118, -0.2004,  0.3136,  0.2829,  0.1537, -0.0251, -0.0013,\n",
       "                        0.0010,  0.2249,  0.0994,  0.1398,  0.0786,  0.0047, -0.2762,  0.1769,\n",
       "                        0.0210,  0.1308, -0.0532, -0.1179,  0.0623,  0.1219,  0.0182,  0.1446,\n",
       "                        0.0710, -0.0013, -0.0289, -0.0894,  0.1536,  0.0227,  0.2584, -0.0271,\n",
       "                       -0.3313,  0.0129, -0.1003, -0.1239, -0.0155,  0.0228, -0.1377, -0.3826,\n",
       "                        0.2631,  0.0125,  0.0471, -0.1286, -0.1095,  0.0195,  0.1530, -0.0098,\n",
       "                       -0.1421, -0.0135, -0.1317, -0.3533,  0.0903, -0.0759,  0.2118, -0.0684]])),\n",
       "             ('base.critic_linear.bias', tensor([0.1453])),\n",
       "             ('dist.fc_mean.weight',\n",
       "              tensor([[ 0.2407,  0.2230,  0.8415,  0.6019,  0.5859,  0.1453,  0.1139],\n",
       "                      [ 0.2675,  0.9089,  0.4171,  0.1339,  0.2194,  0.3732,  0.7485],\n",
       "                      [ 0.7708,  0.1291,  0.2414,  0.1596,  0.9919,  0.0678,  0.4302],\n",
       "                      [ 0.3977,  0.5108,  0.4274,  0.0130,  0.8152,  0.0614,  0.4946],\n",
       "                      [ 0.5294,  0.2117,  0.5542,  0.3820,  0.4718,  0.5737,  0.4465],\n",
       "                      [ 0.2254,  0.0646,  0.2464,  0.5772,  0.5827, -0.0021,  0.1492],\n",
       "                      [ 0.6681,  0.0036,  0.3229,  0.0995,  0.0569,  0.6770,  0.0925],\n",
       "                      [ 0.5157,  0.1202,  0.4819,  0.0839,  0.8296,  0.4271,  0.7459],\n",
       "                      [ 0.0294,  0.2432,  0.2561,  0.8904, -0.0787, -0.0323,  0.0789],\n",
       "                      [ 0.1328,  0.0848,  0.1147,  0.1037,  0.8652, -0.0254,  0.6292],\n",
       "                      [ 0.3178,  0.7237,  0.3417,  0.2572,  0.4945,  0.1837,  0.8311],\n",
       "                      [ 0.0934,  0.0920,  0.1878,  0.5485,  0.3300,  0.5950,  0.5413],\n",
       "                      [ 0.1119,  0.0197,  0.7593,  0.6109,  0.0449,  0.5831,  0.2802],\n",
       "                      [ 0.5153,  0.6048,  0.5076,  0.0371,  0.3321,  0.5870,  0.4756],\n",
       "                      [ 0.8244,  0.1946, -0.0252, -0.1255,  0.4146,  0.0717,  0.0813],\n",
       "                      [ 0.6666,  0.0863,  0.2966,  0.2259,  0.2685,  0.2923,  0.7569],\n",
       "                      [ 0.3344,  0.7631,  0.2002,  0.2146,  0.4887,  0.0233,  0.6965],\n",
       "                      [ 0.1906,  0.3936,  0.6536,  0.5148,  0.1900,  0.2437,  0.4527]])),\n",
       "             ('dist.logstd._bias', tensor([[4.1972],\n",
       "                      [4.1899],\n",
       "                      [4.1983],\n",
       "                      [4.1492],\n",
       "                      [4.2250],\n",
       "                      [4.1597],\n",
       "                      [4.1470],\n",
       "                      [4.2017],\n",
       "                      [4.2196],\n",
       "                      [4.2328],\n",
       "                      [4.2194],\n",
       "                      [4.2118],\n",
       "                      [4.2665],\n",
       "                      [4.2303],\n",
       "                      [4.2193],\n",
       "                      [4.1903],\n",
       "                      [4.1991],\n",
       "                      [4.2304]])),\n",
       "             ('dist.synlogstd._bias', tensor([[4.7010],\n",
       "                      [4.3720],\n",
       "                      [4.6963],\n",
       "                      [4.1670],\n",
       "                      [4.0284],\n",
       "                      [4.5043],\n",
       "                      [3.9964]])),\n",
       "             ('dist.opto_probs._bias', tensor([[-5.1720]]))])"
      ]
     },
     "execution_count": 10,
     "metadata": {},
     "output_type": "execute_result"
    }
   ],
   "source": [
    "data[0].state_dict()"
   ]
  },
  {
   "cell_type": "code",
   "execution_count": 6,
   "metadata": {},
   "outputs": [],
   "source": [
    "model_path = 'trained_models/ppo/skelefactor_montecarlo_bern.pt'\n",
    "data = torch.load(model_path)\n",
    "weight = data[0].state_dict()['dist.fc_mean.weight']\n",
    "# stds = np.random.uniform(0, 1, (18))\n",
    "stds = data[0].state_dict()['dist.logstd._bias']"
   ]
  },
  {
   "cell_type": "code",
   "execution_count": 5,
   "metadata": {},
   "outputs": [],
   "source": [
    "normy = torch.distributions.Normal(loc=0, scale = stds.exp())"
   ]
  },
  {
   "cell_type": "code",
   "execution_count": 78,
   "metadata": {},
   "outputs": [],
   "source": [
    "samples = normy.sample(torch.Size([1000]))"
   ]
  },
  {
   "cell_type": "code",
   "execution_count": 66,
   "metadata": {},
   "outputs": [
    {
     "data": {
      "text/plain": [
       "torch.float64"
      ]
     },
     "execution_count": 66,
     "metadata": {},
     "output_type": "execute_result"
    }
   ],
   "source": [
    "samples.dtype"
   ]
  },
  {
   "cell_type": "code",
   "execution_count": 27,
   "metadata": {},
   "outputs": [
    {
     "data": {
      "text/plain": [
       "torch.Size([1000, 7, 1])"
      ]
     },
     "execution_count": 27,
     "metadata": {},
     "output_type": "execute_result"
    }
   ],
   "source": [
    "samples.size()"
   ]
  },
  {
   "cell_type": "code",
   "execution_count": 80,
   "metadata": {},
   "outputs": [],
   "source": [
    "res = torch.matmul(weight, samples)"
   ]
  },
  {
   "cell_type": "code",
   "execution_count": 71,
   "metadata": {},
   "outputs": [],
   "source": [
    "ws = weight*stds.exp().view(7)\n",
    "# mvn_cov = np.matmul(ws, ws.T)\n",
    "# np.linalg.det(mvn_cov)"
   ]
  },
  {
   "cell_type": "code",
   "execution_count": 95,
   "metadata": {},
   "outputs": [],
   "source": [
    "sample = np.random.normal(size=7)"
   ]
  },
  {
   "cell_type": "code",
   "execution_count": 97,
   "metadata": {},
   "outputs": [
    {
     "data": {
      "text/plain": [
       "array([0.14419541, 0.26243449, 0.26314391, 0.39789645, 0.39875623,\n",
       "       0.39862921, 0.39744541])"
      ]
     },
     "execution_count": 97,
     "metadata": {},
     "output_type": "execute_result"
    }
   ],
   "source": [
    "stats.norm.pdf(sample)"
   ]
  },
  {
   "cell_type": "code",
   "execution_count": 103,
   "metadata": {},
   "outputs": [
    {
     "data": {
      "text/plain": [
       "array([-0.18140655,  0.02054533,  1.74732611, -1.10052847,  0.2081834 ,\n",
       "        1.08189012,  2.41179138,  0.76604258, -1.11083773,  0.12953414,\n",
       "        1.40756425,  0.81626522,  0.28408946,  1.39876682, -3.28431824,\n",
       "        1.92902141,  2.05251636, -2.43428453])"
      ]
     },
     "execution_count": 103,
     "metadata": {},
     "output_type": "execute_result"
    }
   ],
   "source": [
    "action = np.matmul(weight, sample)\n",
    "action"
   ]
  },
  {
   "cell_type": "code",
   "execution_count": 110,
   "metadata": {},
   "outputs": [
    {
     "ename": "AttributeError",
     "evalue": "module 'torch.distributions' has no attribute 'lowrank_multivariate_normal'",
     "output_type": "error",
     "traceback": [
      "\u001b[1;31m---------------------------------------------------------------------------\u001b[0m",
      "\u001b[1;31mAttributeError\u001b[0m                            Traceback (most recent call last)",
      "\u001b[1;32m<ipython-input-110-905f416ba9e2>\u001b[0m in \u001b[0;36m<module>\u001b[1;34m()\u001b[0m\n\u001b[1;32m----> 1\u001b[1;33m \u001b[0mtorch\u001b[0m\u001b[1;33m.\u001b[0m\u001b[0mdistributions\u001b[0m\u001b[1;33m.\u001b[0m\u001b[0mlowrank_multivariate_normal\u001b[0m\u001b[1;33m\u001b[0m\u001b[0m\n\u001b[0m",
      "\u001b[1;31mAttributeError\u001b[0m: module 'torch.distributions' has no attribute 'lowrank_multivariate_normal'"
     ]
    }
   ],
   "source": [
    "torch.distributions.lowrank_multivariate_normal"
   ]
  },
  {
   "cell_type": "code",
   "execution_count": 61,
   "metadata": {},
   "outputs": [],
   "source": [
    "def init_normc_(weight, gain=1):\n",
    "    weight.normal_(0, 1)\n",
    "    # TODO: Flag this\n",
    "    # weight.abs_()\n",
    "    weight *= gain / torch.sqrt(weight.pow(2).sum(1, keepdim=True))"
   ]
  },
  {
   "cell_type": "code",
   "execution_count": 67,
   "metadata": {},
   "outputs": [],
   "source": [
    "init_normc_(weight)"
   ]
  },
  {
   "cell_type": "code",
   "execution_count": 68,
   "metadata": {},
   "outputs": [
    {
     "data": {
      "text/plain": [
       "tensor([[-0.2632,  0.3379,  0.0670, -0.3855, -0.1485,  0.7991,  0.0523],\n",
       "        [-0.0309, -0.4967, -0.3692, -0.2663,  0.4044, -0.3915, -0.4778],\n",
       "        [-0.3726, -0.6230,  0.0611, -0.0485, -0.4726, -0.2862, -0.4022],\n",
       "        [ 0.0839,  0.0199,  0.5795,  0.3880,  0.0659,  0.7034, -0.0841],\n",
       "        [ 0.0935, -0.1041,  0.3239,  0.4816, -0.4674, -0.6022, -0.2498],\n",
       "        [-0.8415, -0.1612, -0.1691, -0.3235,  0.0891, -0.1561,  0.3169],\n",
       "        [ 0.3067, -0.3159, -0.3370,  0.2710,  0.6673,  0.2032,  0.3641],\n",
       "        [ 0.3552, -0.0769,  0.0427, -0.4807, -0.7692, -0.2081,  0.0060],\n",
       "        [-0.1328, -0.3060, -0.1665, -0.4379,  0.3774, -0.4467, -0.5721],\n",
       "        [-0.1417,  0.3348,  0.4132,  0.1149,  0.5669,  0.2765,  0.5348],\n",
       "        [ 0.6628,  0.5624,  0.2257, -0.3406, -0.2254, -0.1041,  0.1256],\n",
       "        [ 0.0192,  0.4552, -0.4747,  0.2945, -0.5666,  0.1696, -0.3612],\n",
       "        [-0.1095,  0.3782, -0.5806,  0.2503, -0.4301,  0.0894, -0.5022],\n",
       "        [ 0.3070, -0.2506, -0.5259,  0.7144,  0.1028,  0.0574, -0.2053],\n",
       "        [ 0.2190,  0.1508, -0.1741,  0.0842,  0.6127,  0.6317, -0.3428],\n",
       "        [ 0.3608,  0.1363, -0.2751, -0.3843,  0.0286, -0.7914,  0.0282],\n",
       "        [-0.4905,  0.0207, -0.7437, -0.0367,  0.3580, -0.1687,  0.2191],\n",
       "        [-0.0704,  0.8538, -0.1202, -0.4603,  0.0936, -0.0352,  0.1725]])"
      ]
     },
     "execution_count": 68,
     "metadata": {},
     "output_type": "execute_result"
    }
   ],
   "source": [
    "weight"
   ]
  },
  {
   "cell_type": "code",
   "execution_count": 4,
   "metadata": {},
   "outputs": [],
   "source": [
    "from torch.distributions import LowRankMultivariateNormal"
   ]
  },
  {
   "cell_type": "code",
   "execution_count": 77,
   "metadata": {},
   "outputs": [],
   "source": [
    "lr =LowRankMultivariateNormal(loc=torch.zeros(18), cov_diag=torch.ones(18)*0.00001, cov_factor=ws)"
   ]
  },
  {
   "cell_type": "code",
   "execution_count": 78,
   "metadata": {},
   "outputs": [
    {
     "data": {
      "text/plain": [
       "tensor([[ 1.0000, -0.4797, -0.2693,  0.4218, -0.6487,  0.1591, -0.2322,  0.0169,\n",
       "         -0.3537,  0.2986,  0.1188,  0.2042,  0.1302, -0.4563,  0.3451, -0.5544,\n",
       "         -0.0761,  0.4434],\n",
       "        [-0.4797,  1.0000,  0.4244, -0.5382, -0.0330,  0.2003,  0.2160, -0.0930,\n",
       "          0.9350, -0.4796, -0.4028, -0.2528, -0.0057,  0.2362,  0.1246,  0.4329,\n",
       "          0.3954, -0.2857],\n",
       "        [-0.2693,  0.4244,  1.0000, -0.2257,  0.5202,  0.2944, -0.4711,  0.3622,\n",
       "          0.4307, -0.6983, -0.4812,  0.0305,  0.1373, -0.0075, -0.5227, -0.0159,\n",
       "         -0.0828, -0.5943],\n",
       "        [ 0.4218, -0.5382, -0.2257,  1.0000, -0.0530, -0.4279,  0.0856, -0.3311,\n",
       "         -0.5248,  0.4657, -0.0332, -0.0379, -0.1643,  0.0575,  0.4667, -0.8327,\n",
       "         -0.5995, -0.2702],\n",
       "        [-0.6487, -0.0330,  0.5202, -0.0530,  1.0000, -0.2993, -0.4423,  0.3069,\n",
       "         -0.0099, -0.4240,  0.0491,  0.1954,  0.1556,  0.1972, -0.5922,  0.2015,\n",
       "         -0.4271, -0.4217],\n",
       "        [ 0.1591,  0.2003,  0.2944, -0.4279, -0.2993,  1.0000, -0.0947, -0.1723,\n",
       "          0.2529,  0.1350, -0.5404, -0.2959, -0.1630, -0.4250, -0.3590, -0.0197,\n",
       "          0.6746,  0.1593],\n",
       "        [-0.2322,  0.2160, -0.4711,  0.0856, -0.4423, -0.0947,  1.0000, -0.5648,\n",
       "         -0.0539,  0.3718, -0.2685, -0.3732, -0.3412,  0.5497,  0.5134, -0.0753,\n",
       "          0.3681, -0.2574],\n",
       "        [ 0.0169, -0.0930,  0.3622, -0.3311,  0.3069, -0.1723, -0.5648,  1.0000,\n",
       "         -0.0210, -0.6040,  0.5614,  0.2083,  0.0961, -0.3298, -0.5865,  0.4335,\n",
       "         -0.4289,  0.0618],\n",
       "        [-0.3537,  0.9350,  0.4307, -0.5248, -0.0099,  0.2529, -0.0539, -0.0210,\n",
       "          1.0000, -0.4183, -0.2589, -0.2747, -0.0291, -0.0588,  0.0621,  0.4726,\n",
       "          0.2838, -0.0779],\n",
       "        [ 0.2986, -0.4796, -0.6983,  0.4657, -0.4240,  0.1350,  0.3718, -0.6040,\n",
       "         -0.4183,  1.0000,  0.0592, -0.4801, -0.5567, -0.2983,  0.2958, -0.3508,\n",
       "          0.0384,  0.3289],\n",
       "        [ 0.1188, -0.4028, -0.4812, -0.0332,  0.0491, -0.5404, -0.2685,  0.5614,\n",
       "         -0.2589,  0.0592,  1.0000,  0.1259, -0.0517, -0.3544, -0.0850,  0.4641,\n",
       "         -0.5044,  0.5674],\n",
       "        [ 0.2042, -0.2528,  0.0305, -0.0379,  0.1954, -0.2959, -0.3732,  0.2083,\n",
       "         -0.2747, -0.4801,  0.1259,  1.0000,  0.9597,  0.3775,  0.0641, -0.0742,\n",
       "          0.0317,  0.1875],\n",
       "        [ 0.1302, -0.0057,  0.1373, -0.1643,  0.1556, -0.1630, -0.3412,  0.0961,\n",
       "         -0.0291, -0.5567, -0.0517,  0.9597,  1.0000,  0.4198,  0.1203, -0.0216,\n",
       "          0.2050,  0.1551],\n",
       "        [-0.4563,  0.2362, -0.0075,  0.0575,  0.1972, -0.4250,  0.5497, -0.3298,\n",
       "         -0.0588, -0.2983, -0.3544,  0.3775,  0.4198,  1.0000,  0.3508, -0.1014,\n",
       "          0.1913, -0.5289],\n",
       "        [ 0.3451,  0.1246, -0.5227,  0.4667, -0.5922, -0.3590,  0.5134, -0.5865,\n",
       "          0.0621,  0.2958, -0.0850,  0.0641,  0.1203,  0.3508,  1.0000, -0.3769,\n",
       "          0.0598,  0.0715],\n",
       "        [-0.5544,  0.4329, -0.0159, -0.8327,  0.2015, -0.0197, -0.0753,  0.4335,\n",
       "          0.4726, -0.3508,  0.4641, -0.0742, -0.0216, -0.1014, -0.3769,  1.0000,\n",
       "          0.1945,  0.3363],\n",
       "        [-0.0761,  0.3954, -0.0828, -0.5995, -0.4271,  0.6746,  0.3681, -0.4289,\n",
       "          0.2838,  0.0384, -0.5044,  0.0317,  0.2050,  0.1913,  0.0598,  0.1945,\n",
       "          1.0000,  0.2357],\n",
       "        [ 0.4434, -0.2857, -0.5943, -0.2702, -0.4217,  0.1593, -0.2574,  0.0618,\n",
       "         -0.0779,  0.3289,  0.5674,  0.1875,  0.1551, -0.5289,  0.0715,  0.3363,\n",
       "          0.2357,  1.0000]])"
      ]
     },
     "execution_count": 78,
     "metadata": {},
     "output_type": "execute_result"
    }
   ],
   "source": [
    "lr.covariance_matrix"
   ]
  },
  {
   "cell_type": "code",
   "execution_count": 102,
   "metadata": {},
   "outputs": [
    {
     "data": {
      "text/plain": [
       "array([ 24.15776528,  -7.72680371,   6.93795293,  13.09955278,\n",
       "       -38.44811692,  18.68132263, -14.11212882])"
      ]
     },
     "execution_count": 102,
     "metadata": {},
     "output_type": "execute_result"
    }
   ],
   "source": [
    "# for i in range(mvn_cov.shape[0]):\n",
    "#     mvn_cov[i,i] = 10\n",
    "np.matmul(action,weight)"
   ]
  },
  {
   "cell_type": "code",
   "execution_count": 101,
   "metadata": {},
   "outputs": [
    {
     "data": {
      "text/plain": [
       "array([ 1.42663754, -0.91522157,  0.91226717, -0.07245631, -0.03054373,\n",
       "        0.0396245 , -0.08670831])"
      ]
     },
     "execution_count": 101,
     "metadata": {},
     "output_type": "execute_result"
    }
   ],
   "source": [
    "sample"
   ]
  },
  {
   "cell_type": "code",
   "execution_count": 3,
   "metadata": {},
   "outputs": [
    {
     "data": {
      "text/plain": [
       "'1.0.0'"
      ]
     },
     "execution_count": 3,
     "metadata": {},
     "output_type": "execute_result"
    }
   ],
   "source": []
  },
  {
   "cell_type": "code",
   "execution_count": 62,
   "metadata": {},
   "outputs": [
    {
     "data": {
      "text/plain": [
       "array([35.71937  , 11.863307 ,  9.20087  ,  4.98846  ,  5.813501 ,\n",
       "        3.0505269, -2.0141788, -5.326365 , -3.9961276, -5.0530543,\n",
       "       -4.851316 , -4.247165 , -4.7328587, -4.3445644, -4.411961 ,\n",
       "       -4.483128 , -4.5735254, -4.601792 ], dtype=float32)"
      ]
     },
     "execution_count": 62,
     "metadata": {},
     "output_type": "execute_result"
    }
   ],
   "source": [
    "np.linalg.eigvals(np.round(mvn_cov, decimals=4))"
   ]
  },
  {
   "cell_type": "code",
   "execution_count": null,
   "metadata": {},
   "outputs": [],
   "source": []
  },
  {
   "cell_type": "code",
   "execution_count": 20,
   "metadata": {},
   "outputs": [
    {
     "ename": "LinAlgError",
     "evalue": "Matrix is not positive definite",
     "output_type": "error",
     "traceback": [
      "\u001b[1;31m---------------------------------------------------------------------------\u001b[0m",
      "\u001b[1;31mLinAlgError\u001b[0m                               Traceback (most recent call last)",
      "\u001b[1;32m<ipython-input-20-45f4fa0ef7f9>\u001b[0m in \u001b[0;36m<module>\u001b[1;34m()\u001b[0m\n\u001b[1;32m----> 1\u001b[1;33m \u001b[0mnp\u001b[0m\u001b[1;33m.\u001b[0m\u001b[0mlinalg\u001b[0m\u001b[1;33m.\u001b[0m\u001b[0mcholesky\u001b[0m\u001b[1;33m(\u001b[0m\u001b[0mmvn_cov\u001b[0m\u001b[1;33m)\u001b[0m\u001b[1;33m\u001b[0m\u001b[0m\n\u001b[0m",
      "\u001b[1;32m~\\Anaconda3\\envs\\opensim-rl\\lib\\site-packages\\numpy\\linalg\\linalg.py\u001b[0m in \u001b[0;36mcholesky\u001b[1;34m(a)\u001b[0m\n\u001b[0;32m    731\u001b[0m     \u001b[0mt\u001b[0m\u001b[1;33m,\u001b[0m \u001b[0mresult_t\u001b[0m \u001b[1;33m=\u001b[0m \u001b[0m_commonType\u001b[0m\u001b[1;33m(\u001b[0m\u001b[0ma\u001b[0m\u001b[1;33m)\u001b[0m\u001b[1;33m\u001b[0m\u001b[0m\n\u001b[0;32m    732\u001b[0m     \u001b[0msignature\u001b[0m \u001b[1;33m=\u001b[0m \u001b[1;34m'D->D'\u001b[0m \u001b[1;32mif\u001b[0m \u001b[0misComplexType\u001b[0m\u001b[1;33m(\u001b[0m\u001b[0mt\u001b[0m\u001b[1;33m)\u001b[0m \u001b[1;32melse\u001b[0m \u001b[1;34m'd->d'\u001b[0m\u001b[1;33m\u001b[0m\u001b[0m\n\u001b[1;32m--> 733\u001b[1;33m     \u001b[0mr\u001b[0m \u001b[1;33m=\u001b[0m \u001b[0mgufunc\u001b[0m\u001b[1;33m(\u001b[0m\u001b[0ma\u001b[0m\u001b[1;33m,\u001b[0m \u001b[0msignature\u001b[0m\u001b[1;33m=\u001b[0m\u001b[0msignature\u001b[0m\u001b[1;33m,\u001b[0m \u001b[0mextobj\u001b[0m\u001b[1;33m=\u001b[0m\u001b[0mextobj\u001b[0m\u001b[1;33m)\u001b[0m\u001b[1;33m\u001b[0m\u001b[0m\n\u001b[0m\u001b[0;32m    734\u001b[0m     \u001b[1;32mreturn\u001b[0m \u001b[0mwrap\u001b[0m\u001b[1;33m(\u001b[0m\u001b[0mr\u001b[0m\u001b[1;33m.\u001b[0m\u001b[0mastype\u001b[0m\u001b[1;33m(\u001b[0m\u001b[0mresult_t\u001b[0m\u001b[1;33m,\u001b[0m \u001b[0mcopy\u001b[0m\u001b[1;33m=\u001b[0m\u001b[1;32mFalse\u001b[0m\u001b[1;33m)\u001b[0m\u001b[1;33m)\u001b[0m\u001b[1;33m\u001b[0m\u001b[0m\n\u001b[0;32m    735\u001b[0m \u001b[1;33m\u001b[0m\u001b[0m\n",
      "\u001b[1;32m~\\Anaconda3\\envs\\opensim-rl\\lib\\site-packages\\numpy\\linalg\\linalg.py\u001b[0m in \u001b[0;36m_raise_linalgerror_nonposdef\u001b[1;34m(err, flag)\u001b[0m\n\u001b[0;32m     90\u001b[0m \u001b[1;33m\u001b[0m\u001b[0m\n\u001b[0;32m     91\u001b[0m \u001b[1;32mdef\u001b[0m \u001b[0m_raise_linalgerror_nonposdef\u001b[0m\u001b[1;33m(\u001b[0m\u001b[0merr\u001b[0m\u001b[1;33m,\u001b[0m \u001b[0mflag\u001b[0m\u001b[1;33m)\u001b[0m\u001b[1;33m:\u001b[0m\u001b[1;33m\u001b[0m\u001b[0m\n\u001b[1;32m---> 92\u001b[1;33m     \u001b[1;32mraise\u001b[0m \u001b[0mLinAlgError\u001b[0m\u001b[1;33m(\u001b[0m\u001b[1;34m\"Matrix is not positive definite\"\u001b[0m\u001b[1;33m)\u001b[0m\u001b[1;33m\u001b[0m\u001b[0m\n\u001b[0m\u001b[0;32m     93\u001b[0m \u001b[1;33m\u001b[0m\u001b[0m\n\u001b[0;32m     94\u001b[0m \u001b[1;32mdef\u001b[0m \u001b[0m_raise_linalgerror_eigenvalues_nonconvergence\u001b[0m\u001b[1;33m(\u001b[0m\u001b[0merr\u001b[0m\u001b[1;33m,\u001b[0m \u001b[0mflag\u001b[0m\u001b[1;33m)\u001b[0m\u001b[1;33m:\u001b[0m\u001b[1;33m\u001b[0m\u001b[0m\n",
      "\u001b[1;31mLinAlgError\u001b[0m: Matrix is not positive definite"
     ]
    }
   ],
   "source": [
    "np.linalg.cholesky(mvn_cov)"
   ]
  },
  {
   "cell_type": "code",
   "execution_count": 10,
   "metadata": {},
   "outputs": [
    {
     "name": "stdout",
     "output_type": "stream",
     "text": [
      "\u001b[33mWARN: gym.spaces.Box autodetected dtype as <class 'numpy.float32'>. Please provide explicit dtype.\u001b[0m\n",
      "\u001b[33mWARN: gym.spaces.Box autodetected dtype as <class 'numpy.float32'>. Please provide explicit dtype.\u001b[0m\n",
      "g\n"
     ]
    },
    {
     "ename": "KeyboardInterrupt",
     "evalue": "",
     "output_type": "error",
     "traceback": [
      "\u001b[1;31m---------------------------------------------------------------------------\u001b[0m",
      "\u001b[1;31mKeyboardInterrupt\u001b[0m                         Traceback (most recent call last)",
      "\u001b[1;32m~\\Anaconda3\\envs\\opensim-rl\\lib\\site-packages\\ipykernel\\kernelbase.py\u001b[0m in \u001b[0;36m_input_request\u001b[1;34m(self, prompt, ident, parent, password)\u001b[0m\n\u001b[0;32m    728\u001b[0m             \u001b[1;32mtry\u001b[0m\u001b[1;33m:\u001b[0m\u001b[1;33m\u001b[0m\u001b[0m\n\u001b[1;32m--> 729\u001b[1;33m                 \u001b[0mident\u001b[0m\u001b[1;33m,\u001b[0m \u001b[0mreply\u001b[0m \u001b[1;33m=\u001b[0m \u001b[0mself\u001b[0m\u001b[1;33m.\u001b[0m\u001b[0msession\u001b[0m\u001b[1;33m.\u001b[0m\u001b[0mrecv\u001b[0m\u001b[1;33m(\u001b[0m\u001b[0mself\u001b[0m\u001b[1;33m.\u001b[0m\u001b[0mstdin_socket\u001b[0m\u001b[1;33m,\u001b[0m \u001b[1;36m0\u001b[0m\u001b[1;33m)\u001b[0m\u001b[1;33m\u001b[0m\u001b[0m\n\u001b[0m\u001b[0;32m    730\u001b[0m             \u001b[1;32mexcept\u001b[0m \u001b[0mException\u001b[0m\u001b[1;33m:\u001b[0m\u001b[1;33m\u001b[0m\u001b[0m\n",
      "\u001b[1;32m~\\Anaconda3\\envs\\opensim-rl\\lib\\site-packages\\jupyter_client\\session.py\u001b[0m in \u001b[0;36mrecv\u001b[1;34m(self, socket, mode, content, copy)\u001b[0m\n\u001b[0;32m    802\u001b[0m         \u001b[1;32mtry\u001b[0m\u001b[1;33m:\u001b[0m\u001b[1;33m\u001b[0m\u001b[0m\n\u001b[1;32m--> 803\u001b[1;33m             \u001b[0mmsg_list\u001b[0m \u001b[1;33m=\u001b[0m \u001b[0msocket\u001b[0m\u001b[1;33m.\u001b[0m\u001b[0mrecv_multipart\u001b[0m\u001b[1;33m(\u001b[0m\u001b[0mmode\u001b[0m\u001b[1;33m,\u001b[0m \u001b[0mcopy\u001b[0m\u001b[1;33m=\u001b[0m\u001b[0mcopy\u001b[0m\u001b[1;33m)\u001b[0m\u001b[1;33m\u001b[0m\u001b[0m\n\u001b[0m\u001b[0;32m    804\u001b[0m         \u001b[1;32mexcept\u001b[0m \u001b[0mzmq\u001b[0m\u001b[1;33m.\u001b[0m\u001b[0mZMQError\u001b[0m \u001b[1;32mas\u001b[0m \u001b[0me\u001b[0m\u001b[1;33m:\u001b[0m\u001b[1;33m\u001b[0m\u001b[0m\n",
      "\u001b[1;32m~\\Anaconda3\\envs\\opensim-rl\\lib\\site-packages\\zmq\\sugar\\socket.py\u001b[0m in \u001b[0;36mrecv_multipart\u001b[1;34m(self, flags, copy, track)\u001b[0m\n\u001b[0;32m    466\u001b[0m         \"\"\"\n\u001b[1;32m--> 467\u001b[1;33m         \u001b[0mparts\u001b[0m \u001b[1;33m=\u001b[0m \u001b[1;33m[\u001b[0m\u001b[0mself\u001b[0m\u001b[1;33m.\u001b[0m\u001b[0mrecv\u001b[0m\u001b[1;33m(\u001b[0m\u001b[0mflags\u001b[0m\u001b[1;33m,\u001b[0m \u001b[0mcopy\u001b[0m\u001b[1;33m=\u001b[0m\u001b[0mcopy\u001b[0m\u001b[1;33m,\u001b[0m \u001b[0mtrack\u001b[0m\u001b[1;33m=\u001b[0m\u001b[0mtrack\u001b[0m\u001b[1;33m)\u001b[0m\u001b[1;33m]\u001b[0m\u001b[1;33m\u001b[0m\u001b[0m\n\u001b[0m\u001b[0;32m    468\u001b[0m         \u001b[1;31m# have first part already, only loop while more to receive\u001b[0m\u001b[1;33m\u001b[0m\u001b[1;33m\u001b[0m\u001b[0m\n",
      "\u001b[1;32mzmq/backend/cython/socket.pyx\u001b[0m in \u001b[0;36mzmq.backend.cython.socket.Socket.recv\u001b[1;34m()\u001b[0m\n",
      "\u001b[1;32mzmq/backend/cython/socket.pyx\u001b[0m in \u001b[0;36mzmq.backend.cython.socket.Socket.recv\u001b[1;34m()\u001b[0m\n",
      "\u001b[1;32mzmq/backend/cython/socket.pyx\u001b[0m in \u001b[0;36mzmq.backend.cython.socket._recv_copy\u001b[1;34m()\u001b[0m\n",
      "\u001b[1;32m~\\Anaconda3\\envs\\opensim-rl\\lib\\site-packages\\zmq\\backend\\cython\\checkrc.pxd\u001b[0m in \u001b[0;36mzmq.backend.cython.checkrc._check_rc\u001b[1;34m()\u001b[0m\n",
      "\u001b[1;31mKeyboardInterrupt\u001b[0m: ",
      "\nDuring handling of the above exception, another exception occurred:\n",
      "\u001b[1;31mKeyboardInterrupt\u001b[0m                         Traceback (most recent call last)",
      "\u001b[1;32m<ipython-input-10-051573523917>\u001b[0m in \u001b[0;36m<module>\u001b[1;34m()\u001b[0m\n\u001b[0;32m      8\u001b[0m     \u001b[1;32mfor\u001b[0m \u001b[0mj\u001b[0m \u001b[1;32min\u001b[0m \u001b[0mrange\u001b[0m\u001b[1;33m(\u001b[0m\u001b[1;36m5\u001b[0m\u001b[1;33m)\u001b[0m\u001b[1;33m:\u001b[0m\u001b[1;33m\u001b[0m\u001b[0m\n\u001b[0;32m      9\u001b[0m         \u001b[0menv\u001b[0m\u001b[1;33m.\u001b[0m\u001b[0mstep\u001b[0m\u001b[1;33m(\u001b[0m\u001b[0maction\u001b[0m\u001b[1;33m.\u001b[0m\u001b[0mflatten\u001b[0m\u001b[1;33m(\u001b[0m\u001b[1;33m)\u001b[0m\u001b[1;33m)\u001b[0m\u001b[1;33m\u001b[0m\u001b[0m\n\u001b[1;32m---> 10\u001b[1;33m     \u001b[0minput\u001b[0m\u001b[1;33m(\u001b[0m\u001b[1;33m)\u001b[0m\u001b[1;33m\u001b[0m\u001b[0m\n\u001b[0m",
      "\u001b[1;32m~\\Anaconda3\\envs\\opensim-rl\\lib\\site-packages\\ipykernel\\kernelbase.py\u001b[0m in \u001b[0;36mraw_input\u001b[1;34m(self, prompt)\u001b[0m\n\u001b[0;32m    702\u001b[0m             \u001b[0mself\u001b[0m\u001b[1;33m.\u001b[0m\u001b[0m_parent_ident\u001b[0m\u001b[1;33m,\u001b[0m\u001b[1;33m\u001b[0m\u001b[0m\n\u001b[0;32m    703\u001b[0m             \u001b[0mself\u001b[0m\u001b[1;33m.\u001b[0m\u001b[0m_parent_header\u001b[0m\u001b[1;33m,\u001b[0m\u001b[1;33m\u001b[0m\u001b[0m\n\u001b[1;32m--> 704\u001b[1;33m             \u001b[0mpassword\u001b[0m\u001b[1;33m=\u001b[0m\u001b[1;32mFalse\u001b[0m\u001b[1;33m,\u001b[0m\u001b[1;33m\u001b[0m\u001b[0m\n\u001b[0m\u001b[0;32m    705\u001b[0m         )\n\u001b[0;32m    706\u001b[0m \u001b[1;33m\u001b[0m\u001b[0m\n",
      "\u001b[1;32m~\\Anaconda3\\envs\\opensim-rl\\lib\\site-packages\\ipykernel\\kernelbase.py\u001b[0m in \u001b[0;36m_input_request\u001b[1;34m(self, prompt, ident, parent, password)\u001b[0m\n\u001b[0;32m    732\u001b[0m             \u001b[1;32mexcept\u001b[0m \u001b[0mKeyboardInterrupt\u001b[0m\u001b[1;33m:\u001b[0m\u001b[1;33m\u001b[0m\u001b[0m\n\u001b[0;32m    733\u001b[0m                 \u001b[1;31m# re-raise KeyboardInterrupt, to truncate traceback\u001b[0m\u001b[1;33m\u001b[0m\u001b[1;33m\u001b[0m\u001b[0m\n\u001b[1;32m--> 734\u001b[1;33m                 \u001b[1;32mraise\u001b[0m \u001b[0mKeyboardInterrupt\u001b[0m\u001b[1;33m\u001b[0m\u001b[0m\n\u001b[0m\u001b[0;32m    735\u001b[0m             \u001b[1;32melse\u001b[0m\u001b[1;33m:\u001b[0m\u001b[1;33m\u001b[0m\u001b[0m\n\u001b[0;32m    736\u001b[0m                 \u001b[1;32mbreak\u001b[0m\u001b[1;33m\u001b[0m\u001b[0m\n",
      "\u001b[1;31mKeyboardInterrupt\u001b[0m: "
     ]
    }
   ],
   "source": [
    "inputs = np.eye(5)*10\n",
    "env = L2RunEnv(visualize=True)\n",
    "for inp in inputs:\n",
    "    inp = np.expand_dims(inp, 0)\n",
    "    action = np.matmul(inp, np.transpose(weight))\n",
    "#     action = action + bias\n",
    "    env.reset()\n",
    "    for j in range(5):\n",
    "        env.step(action.flatten())\n",
    "    input()"
   ]
  },
  {
   "cell_type": "code",
   "execution_count": 20,
   "metadata": {},
   "outputs": [
    {
     "data": {
      "text/plain": [
       "OrderedDict([('base.actor.0.weight',\n",
       "              tensor([[ 0.3767,  0.0054,  0.2292,  ..., -0.0944, -0.2623, -0.0907],\n",
       "                      [-0.0301, -0.1602, -0.0433,  ..., -0.0092,  0.2020,  0.0837],\n",
       "                      [ 0.0792, -0.0539,  0.1521,  ..., -0.2077, -0.2789,  0.1078],\n",
       "                      ...,\n",
       "                      [-0.0504,  0.0098,  0.1456,  ...,  0.0114,  0.0666,  0.0027],\n",
       "                      [ 0.1772,  0.1702, -0.1044,  ...,  0.0311, -0.0041, -0.0144],\n",
       "                      [ 0.0735, -0.0634,  0.0406,  ..., -0.2188, -0.0818,  0.0773]])),\n",
       "             ('base.actor.0.bias',\n",
       "              tensor([ 0.1050, -0.0333,  0.0027,  0.0233, -0.0350, -0.1583, -0.1369,  0.0505,\n",
       "                       0.0640, -0.0686, -0.1145,  0.1379,  0.0377,  0.1397, -0.0486,  0.0446,\n",
       "                       0.0586, -0.0424, -0.0617,  0.1230,  0.0693,  0.0075, -0.0760, -0.0905,\n",
       "                       0.1232, -0.0128, -0.1683, -0.0237,  0.0057,  0.0523, -0.0552,  0.0147,\n",
       "                      -0.0729, -0.0901, -0.0362,  0.0666,  0.1269, -0.0394,  0.0594,  0.0256,\n",
       "                       0.1911,  0.0424,  0.0425,  0.0379,  0.0295,  0.0451, -0.0878, -0.0745,\n",
       "                       0.0181, -0.0313,  0.0916, -0.0338,  0.0656, -0.1272,  0.0005,  0.0341,\n",
       "                      -0.0873,  0.0093,  0.0572, -0.0465, -0.0037, -0.0203,  0.0854,  0.1410])),\n",
       "             ('base.actor.2.weight',\n",
       "              tensor([[-0.2569, -0.1165, -0.2634,  ...,  0.0633, -0.2679,  0.0806],\n",
       "                      [ 0.0521,  0.1413,  0.1735,  ..., -0.0795,  0.0996,  0.2214],\n",
       "                      [-0.0507, -0.0608, -0.0542,  ..., -0.1393, -0.0088,  0.0387],\n",
       "                      ...,\n",
       "                      [ 0.0557,  0.0399,  0.0969,  ...,  0.0561,  0.0142,  0.0485],\n",
       "                      [ 0.0182,  0.2423,  0.2066,  ..., -0.0691, -0.0595, -0.1209],\n",
       "                      [-0.3193, -0.1445,  0.0149,  ..., -0.2810, -0.1072,  0.0269]])),\n",
       "             ('base.actor.2.bias',\n",
       "              tensor([-0.0243,  0.0264,  0.0800, -0.0140,  0.0338,  0.0131,  0.0701, -0.0361,\n",
       "                       0.0405,  0.0081, -0.0553, -0.0650,  0.0247, -0.0088,  0.0289, -0.0048,\n",
       "                       0.0030,  0.0406, -0.0014, -0.0421, -0.0250,  0.0153, -0.0828, -0.0252,\n",
       "                       0.0045,  0.1045, -0.0735,  0.1003, -0.0475, -0.0003,  0.0482,  0.0295,\n",
       "                       0.0256, -0.0339,  0.0733,  0.0064, -0.0206,  0.0134,  0.0201,  0.0395,\n",
       "                      -0.0136, -0.0562,  0.0233,  0.0199,  0.0361,  0.0096,  0.0508,  0.0850,\n",
       "                       0.0043, -0.0050,  0.0223,  0.0344, -0.0330,  0.0023,  0.0141, -0.0055,\n",
       "                       0.0288, -0.0273,  0.0224,  0.0076, -0.1326, -0.0459, -0.0649, -0.0141])),\n",
       "             ('base.actor.4.weight',\n",
       "              tensor([[ 0.2913, -0.1448,  0.1087,  0.4613, -0.2154, -0.2451,  0.0239, -0.0625,\n",
       "                       -0.1434,  0.0996, -0.1754,  0.0873, -0.1384,  0.2389, -0.0716,  0.0726,\n",
       "                        0.2705, -0.2002,  0.0287,  0.1037, -0.2496, -0.1538,  0.1377,  0.0572,\n",
       "                       -0.1637,  0.1862,  0.2954,  0.0051, -0.0089,  0.4411, -0.0192, -0.0574,\n",
       "                       -0.0818, -0.2921,  0.4859,  0.2909,  0.1205, -0.0835, -0.3840,  0.3099,\n",
       "                        0.1632,  0.3075, -0.1715,  0.4932,  0.2935, -0.4598, -0.0082, -0.1207,\n",
       "                       -0.0131, -0.2888,  0.5040, -0.1189,  0.2845, -0.1039,  0.1308,  0.4112,\n",
       "                        0.0747,  0.1661, -0.0144, -0.0204, -0.0912,  0.2934, -0.2020, -0.2255],\n",
       "                      [-0.0868,  0.0361, -0.1629,  0.1846,  0.0285, -0.1627, -0.3890, -0.0961,\n",
       "                       -0.0237, -0.1119,  0.2339,  0.1191,  0.1687,  0.3487,  0.1358, -0.0543,\n",
       "                        0.0530, -0.4084,  0.1391, -0.1261, -0.2506, -0.3797,  0.4364, -0.0681,\n",
       "                       -0.3491, -0.0597,  0.5001, -0.2088,  0.3007,  0.1092, -0.1702, -0.2094,\n",
       "                       -0.3996, -0.0804,  0.2726,  0.3667, -0.0518, -0.3219, -0.4389,  0.0406,\n",
       "                        0.4179,  0.0990, -0.3187,  0.0283, -0.2123, -0.1125,  0.0416,  0.0064,\n",
       "                       -0.1177,  0.1310,  0.1740, -0.0724,  0.0979, -0.0318, -0.1946, -0.0445,\n",
       "                       -0.0796,  0.1168,  0.2534, -0.0648,  0.1890,  0.2895,  0.1498, -0.0148],\n",
       "                      [ 0.1303, -0.1349, -0.0297,  0.4977, -0.0344, -0.0904, -0.0797, -0.0314,\n",
       "                       -0.1035, -0.0362, -0.1214,  0.1971, -0.2907,  0.3111,  0.0585, -0.1239,\n",
       "                        0.0954, -0.0434, -0.1167,  0.3994, -0.2314, -0.3951,  0.5406,  0.0185,\n",
       "                       -0.0623,  0.1067,  0.4127,  0.2589,  0.1834,  0.3710, -0.2814, -0.3594,\n",
       "                       -0.1811, -0.2797,  0.3581,  0.2841,  0.0311, -0.0553, -0.1797,  0.0487,\n",
       "                        0.0708,  0.1855, -0.2514,  0.5458, -0.2280, -0.3960, -0.1977, -0.0477,\n",
       "                        0.1262, -0.3087,  0.3057, -0.1775,  0.1928,  0.0026, -0.0048,  0.1972,\n",
       "                       -0.0673,  0.5293,  0.0455, -0.4101, -0.1055,  0.3725,  0.1389, -0.0116],\n",
       "                      [-0.6397,  0.4551, -0.0071,  0.0093,  0.1218,  0.2276,  0.1826, -0.4540,\n",
       "                        0.1300, -0.3666,  0.0226,  0.1319, -0.1129,  0.1661, -0.0210, -0.2320,\n",
       "                        0.0232, -0.2702, -0.0241, -0.3697,  0.2815, -0.1318, -0.3208, -0.2287,\n",
       "                       -0.0011,  0.1014, -0.0209,  0.2700, -0.0529, -0.2479, -0.1773, -0.2653,\n",
       "                       -0.1021,  0.0969, -0.0567,  0.0910, -0.1935, -0.1522,  0.0425,  0.0746,\n",
       "                        0.0224, -0.4122, -0.2957, -0.2094,  0.1855,  0.1768,  0.5358,  0.2643,\n",
       "                        0.0927,  0.1273, -0.0228,  0.5423, -0.1459,  0.2188, -0.0364, -0.1391,\n",
       "                        0.4401, -0.0484,  0.5263,  0.2457, -0.0943, -0.0727, -0.1695, -0.0745],\n",
       "                      [ 0.2000, -0.0901, -0.1876,  0.2815, -0.1549, -0.5761,  0.0362,  0.1996,\n",
       "                       -0.1088, -0.2799, -0.1035, -0.0531, -0.2656,  0.5815,  0.0184, -0.1332,\n",
       "                        0.1644, -0.2047,  0.3476,  0.0803, -0.4376,  0.0044,  0.1250,  0.0863,\n",
       "                       -0.2016, -0.1276,  0.6062,  0.1173,  0.0269,  0.3817,  0.0433, -0.0806,\n",
       "                       -0.3358, -0.1445,  0.2102,  0.3332,  0.0576, -0.2239, -0.2390,  0.3169,\n",
       "                        0.0946,  0.0496, -0.3810,  0.4098,  0.3851, -0.2583, -0.1770, -0.2393,\n",
       "                        0.1969, -0.3891,  0.5318,  0.0864,  0.2314, -0.0366, -0.2407,  0.3071,\n",
       "                        0.0828,  0.2639, -0.0736, -0.0758,  0.2665,  0.4654, -0.0755, -0.3714],\n",
       "                      [ 0.0448, -0.0764,  0.3542,  0.0510, -0.2330,  0.0552, -0.0720,  0.0048,\n",
       "                        0.1477,  0.1189, -0.3130, -0.2035, -0.0106,  0.0897,  0.3038,  0.2941,\n",
       "                        0.3669, -0.0647,  0.4654, -0.0357, -0.3790, -0.1459,  0.1690, -0.2591,\n",
       "                       -0.0330,  0.2451,  0.1905, -0.2935,  0.0940,  0.2038,  0.3074,  0.0846,\n",
       "                        0.1469, -0.1931, -0.1392,  0.0730, -0.2622,  0.0314,  0.0907, -0.1010,\n",
       "                        0.3313,  0.1305,  0.0717,  0.0771, -0.1508, -0.0664, -0.1501,  0.2354,\n",
       "                       -0.0862, -0.0938,  0.0810, -0.4947,  0.3358, -0.5367, -0.2538,  0.2038,\n",
       "                       -0.2446, -0.0152,  0.0740,  0.0046, -0.2518,  0.0595,  0.0792,  0.1373],\n",
       "                      [-0.0412, -0.0916, -0.0924,  0.1881, -0.0634, -0.1967, -0.0148,  0.0207,\n",
       "                       -0.1989, -0.0795,  0.0907,  0.1042, -0.2947,  0.4110,  0.2932, -0.1744,\n",
       "                        0.1768, -0.2581,  0.1706,  0.2463, -0.0038, -0.1791,  0.1092, -0.0662,\n",
       "                       -0.4259, -0.2320,  0.4539, -0.1046,  0.3762,  0.4334,  0.0666, -0.3767,\n",
       "                       -0.2992, -0.3832,  0.3299,  0.2410, -0.1190, -0.4315, -0.3963,  0.0100,\n",
       "                        0.2666, -0.0153, -0.5665,  0.3557, -0.2801, -0.2795,  0.0595, -0.1113,\n",
       "                        0.1055, -0.3145,  0.3266,  0.0232, -0.0885,  0.1265, -0.0691, -0.0439,\n",
       "                       -0.0760,  0.0303, -0.0160, -0.1505,  0.1420,  0.4974,  0.1930, -0.0799]])),\n",
       "             ('base.critic.0.weight',\n",
       "              tensor([[-0.0084,  0.0290, -0.0259,  ...,  0.0457, -0.2904,  0.1831],\n",
       "                      [-0.0194, -0.2817, -0.1931,  ...,  0.0492, -0.0561,  0.0536],\n",
       "                      [ 0.0247,  0.0736, -0.0036,  ...,  0.0057,  0.2253,  0.0920],\n",
       "                      ...,\n",
       "                      [ 0.0401, -0.0818,  0.0960,  ..., -0.3227,  0.2643,  0.0379],\n",
       "                      [-0.0779,  0.0512,  0.0335,  ..., -0.1006, -0.2940,  0.0711],\n",
       "                      [-0.1559, -0.1392, -0.0501,  ...,  0.1968, -0.0719,  0.0454]])),\n",
       "             ('base.critic.0.bias',\n",
       "              tensor([-0.0035, -0.0015,  0.0094, -0.0336, -0.0222, -0.0094,  0.1132, -0.0504,\n",
       "                      -0.0164, -0.0061, -0.0044, -0.0184, -0.0476, -0.0036, -0.0437, -0.0071,\n",
       "                      -0.0704,  0.0366,  0.0909, -0.0587,  0.0160, -0.0345, -0.0650,  0.0460,\n",
       "                      -0.0221, -0.0026, -0.0122,  0.0073,  0.0002,  0.0859,  0.0627,  0.0853,\n",
       "                      -0.0086, -0.0216,  0.0344,  0.0149, -0.0377, -0.0154,  0.0645,  0.0828,\n",
       "                       0.0009, -0.0353,  0.0397,  0.0688,  0.0172, -0.0349, -0.0384,  0.0026,\n",
       "                       0.0123, -0.0011,  0.0135, -0.0084, -0.0068,  0.0189, -0.0388, -0.0079,\n",
       "                      -0.0607,  0.0344, -0.0282, -0.0380, -0.0362, -0.0494,  0.0072, -0.0270])),\n",
       "             ('base.critic.2.weight',\n",
       "              tensor([[ 7.1263e-02,  1.5137e-01, -1.5869e-01,  ..., -2.7274e-02,\n",
       "                       -2.2904e-01, -1.7599e-01],\n",
       "                      [-3.7792e-02,  2.4519e-01,  9.1784e-02,  ..., -6.1770e-02,\n",
       "                        2.4370e-02,  5.2466e-02],\n",
       "                      [ 6.0512e-02, -1.6087e-01, -1.1625e-01,  ...,  1.0448e-01,\n",
       "                        3.0018e-01, -2.2224e-02],\n",
       "                      ...,\n",
       "                      [ 1.5356e-01, -1.0218e-01,  1.3248e-01,  ..., -2.1109e-01,\n",
       "                       -1.0164e-01, -1.0608e-01],\n",
       "                      [-7.7870e-02, -8.3393e-02,  8.8921e-05,  ..., -7.5109e-02,\n",
       "                        1.7767e-02, -2.4238e-01],\n",
       "                      [ 4.6631e-02, -1.1313e-02,  4.6963e-02,  ..., -3.7600e-02,\n",
       "                        3.4885e-02,  9.3845e-03]])),\n",
       "             ('base.critic.2.bias',\n",
       "              tensor([ 0.0203, -0.0810, -0.0506,  0.0010,  0.0672, -0.0320, -0.1076, -0.0603,\n",
       "                       0.0854, -0.0089, -0.1244,  0.1497,  0.0601,  0.0979, -0.0063, -0.0149,\n",
       "                       0.0201,  0.1166,  0.0734,  0.0766,  0.0432,  0.0363, -0.1374,  0.0549,\n",
       "                       0.0311,  0.0741, -0.0276, -0.0631,  0.0562,  0.0862,  0.0166,  0.0438,\n",
       "                       0.0603, -0.0347, -0.0421, -0.0647,  0.1085,  0.0520,  0.0608,  0.0278,\n",
       "                      -0.0537,  0.0462, -0.0592, -0.1054, -0.0642,  0.0594, -0.0448, -0.0556,\n",
       "                       0.1210,  0.0387,  0.0634, -0.0792, -0.0733,  0.0166,  0.0581, -0.0518,\n",
       "                      -0.0710,  0.0478, -0.0731, -0.1397,  0.0620, -0.0502,  0.0887, -0.0629])),\n",
       "             ('base.critic_linear.weight',\n",
       "              tensor([[ 0.0394, -0.1595, -0.0221,  0.0025,  0.1053, -0.0448, -0.2225, -0.1864,\n",
       "                        0.1687,  0.0118, -0.2004,  0.3136,  0.2829,  0.1537, -0.0251, -0.0013,\n",
       "                        0.0010,  0.2249,  0.0994,  0.1398,  0.0786,  0.0047, -0.2762,  0.1769,\n",
       "                        0.0210,  0.1308, -0.0532, -0.1179,  0.0623,  0.1219,  0.0182,  0.1446,\n",
       "                        0.0710, -0.0013, -0.0289, -0.0894,  0.1536,  0.0227,  0.2584, -0.0271,\n",
       "                       -0.3313,  0.0129, -0.1003, -0.1239, -0.0155,  0.0228, -0.1377, -0.3826,\n",
       "                        0.2631,  0.0125,  0.0471, -0.1286, -0.1095,  0.0195,  0.1530, -0.0098,\n",
       "                       -0.1421, -0.0135, -0.1317, -0.3533,  0.0903, -0.0759,  0.2118, -0.0684]])),\n",
       "             ('base.critic_linear.bias', tensor([0.1453])),\n",
       "             ('dist.fc_mean.weight',\n",
       "              tensor([[ 0.2407,  0.2230,  0.8415,  0.6019,  0.5859,  0.1453,  0.1139],\n",
       "                      [ 0.2675,  0.9089,  0.4171,  0.1339,  0.2194,  0.3732,  0.7485],\n",
       "                      [ 0.7708,  0.1291,  0.2414,  0.1596,  0.9919,  0.0678,  0.4302],\n",
       "                      [ 0.3977,  0.5108,  0.4274,  0.0130,  0.8152,  0.0614,  0.4946],\n",
       "                      [ 0.5294,  0.2117,  0.5542,  0.3820,  0.4718,  0.5737,  0.4465],\n",
       "                      [ 0.2254,  0.0646,  0.2464,  0.5772,  0.5827, -0.0021,  0.1492],\n",
       "                      [ 0.6681,  0.0036,  0.3229,  0.0995,  0.0569,  0.6770,  0.0925],\n",
       "                      [ 0.5157,  0.1202,  0.4819,  0.0839,  0.8296,  0.4271,  0.7459],\n",
       "                      [ 0.0294,  0.2432,  0.2561,  0.8904, -0.0787, -0.0323,  0.0789],\n",
       "                      [ 0.1328,  0.0848,  0.1147,  0.1037,  0.8652, -0.0254,  0.6292],\n",
       "                      [ 0.3178,  0.7237,  0.3417,  0.2572,  0.4945,  0.1837,  0.8311],\n",
       "                      [ 0.0934,  0.0920,  0.1878,  0.5485,  0.3300,  0.5950,  0.5413],\n",
       "                      [ 0.1119,  0.0197,  0.7593,  0.6109,  0.0449,  0.5831,  0.2802],\n",
       "                      [ 0.5153,  0.6048,  0.5076,  0.0371,  0.3321,  0.5870,  0.4756],\n",
       "                      [ 0.8244,  0.1946, -0.0252, -0.1255,  0.4146,  0.0717,  0.0813],\n",
       "                      [ 0.6666,  0.0863,  0.2966,  0.2259,  0.2685,  0.2923,  0.7569],\n",
       "                      [ 0.3344,  0.7631,  0.2002,  0.2146,  0.4887,  0.0233,  0.6965],\n",
       "                      [ 0.1906,  0.3936,  0.6536,  0.5148,  0.1900,  0.2437,  0.4527]])),\n",
       "             ('dist.logstd._bias', tensor([[4.1972],\n",
       "                      [4.1899],\n",
       "                      [4.1983],\n",
       "                      [4.1492],\n",
       "                      [4.2250],\n",
       "                      [4.1597],\n",
       "                      [4.1470],\n",
       "                      [4.2017],\n",
       "                      [4.2196],\n",
       "                      [4.2328],\n",
       "                      [4.2194],\n",
       "                      [4.2118],\n",
       "                      [4.2665],\n",
       "                      [4.2303],\n",
       "                      [4.2193],\n",
       "                      [4.1903],\n",
       "                      [4.1991],\n",
       "                      [4.2304]])),\n",
       "             ('dist.synlogstd._bias', tensor([[4.7010],\n",
       "                      [4.3720],\n",
       "                      [4.6963],\n",
       "                      [4.1670],\n",
       "                      [4.0284],\n",
       "                      [4.5043],\n",
       "                      [3.9964]])),\n",
       "             ('dist.opto_probs._bias', tensor([[-5.1720]]))])"
      ]
     },
     "execution_count": 20,
     "metadata": {},
     "output_type": "execute_result"
    }
   ],
   "source": [
    "data[0].state_dict()"
   ]
  },
  {
   "cell_type": "code",
   "execution_count": 42,
   "metadata": {},
   "outputs": [
    {
     "data": {
      "text/plain": [
       "(18, 1)"
      ]
     },
     "execution_count": 42,
     "metadata": {},
     "output_type": "execute_result"
    }
   ],
   "source": [
    "stds.numpy().shape"
   ]
  },
  {
   "cell_type": "code",
   "execution_count": 15,
   "metadata": {},
   "outputs": [
    {
     "name": "stderr",
     "output_type": "stream",
     "text": [
      "C:\\Users\\clvco\\Anaconda3\\envs\\opensim-rl\\lib\\site-packages\\torch\\serialization.py:434: SourceChangeWarning: source code of class 'distributions.DiagGaussian' has changed. you can retrieve the original source code by accessing the object's source attribute or set `torch.nn.Module.dump_patches = True` and use the patch tool to revert the changes.\n",
      "  warnings.warn(msg, SourceChangeWarning)\n"
     ]
    },
    {
     "data": {
      "text/plain": [
       "Text(0.5, 1.0, 'STDs')"
      ]
     },
     "execution_count": 15,
     "metadata": {},
     "output_type": "execute_result"
    },
    {
     "data": {
      "image/png": "[encoded data removed]",
      "text/plain": [
       "<Figure size 1080x1411.2 with 8 Axes>"
      ]
     },
     "metadata": {
      "needs_background": "light"
     },
     "output_type": "display_data"
    }
   ],
   "source": [
    "model_path = 'trained_models/skelefactor_montecarlo_bern.pt'\n",
    "data = torch.load(model_path)\n",
    "weight = data[0].state_dict()['dist.fc_mean.weight'].numpy()\n",
    "stds = data[0].state_dict()['dist.logstd._bias']\n",
    "sparse = weight.copy()\n",
    "fig, axs = plt.subplots(nrows = sparse.shape[1]+1, ncols=1, figsize=(15,sparse.shape[1]*2.8))\n",
    "for i in range(sparse.shape[1]):\n",
    "#     plt.figure()\n",
    "    axs[i].bar(np.arange(0, 18), sparse[:,i], color='C' +str(i))\n",
    "    axs[i].set_yticks(np.arange(0, 1.2, 0.2))\n",
    "    mn = muscle_names[i]\n",
    "    axs[i].set_title(mn)\n",
    "    axs[i].grid()\n",
    "#     break\n",
    "plt.subplots_adjust(hspace=0.4)\n",
    "axs[-1].bar(np.arange(0, 18), stds[:,0], color='C' + str(i+1))\n",
    "axs[-1].set_title(\"STDs\")"
   ]
  },
  {
   "cell_type": "code",
   "execution_count": 9,
   "metadata": {},
   "outputs": [
    {
     "ename": "RuntimeError",
     "evalue": "No mappable was found to use for colorbar creation. First define a mappable such as an image (with imshow) or a contour set (with contourf).",
     "output_type": "error",
     "traceback": [
      "\u001b[1;31m---------------------------------------------------------------------------\u001b[0m",
      "\u001b[1;31mRuntimeError\u001b[0m                              Traceback (most recent call last)",
      "\u001b[1;32m<ipython-input-9-f41445267774>\u001b[0m in \u001b[0;36m<module>\u001b[1;34m()\u001b[0m\n\u001b[0;32m      6\u001b[0m     \u001b[0maxs\u001b[0m\u001b[1;33m[\u001b[0m\u001b[0mi\u001b[0m\u001b[1;33m]\u001b[0m\u001b[1;33m.\u001b[0m\u001b[0mset_xticks\u001b[0m\u001b[1;33m(\u001b[0m\u001b[1;33m[\u001b[0m\u001b[1;33m]\u001b[0m\u001b[1;33m)\u001b[0m\u001b[1;33m\u001b[0m\u001b[0m\n\u001b[0;32m      7\u001b[0m \u001b[1;31m# plt.imshow(sparse)\u001b[0m\u001b[1;33m\u001b[0m\u001b[1;33m\u001b[0m\u001b[0m\n\u001b[1;32m----> 8\u001b[1;33m \u001b[0mplt\u001b[0m\u001b[1;33m.\u001b[0m\u001b[0mcolorbar\u001b[0m\u001b[1;33m(\u001b[0m\u001b[1;33m)\u001b[0m\u001b[1;33m\u001b[0m\u001b[0m\n\u001b[0m",
      "\u001b[1;32m~\\Anaconda3\\envs\\opensim-rl\\lib\\site-packages\\matplotlib\\pyplot.py\u001b[0m in \u001b[0;36mcolorbar\u001b[1;34m(mappable, cax, ax, **kw)\u001b[0m\n\u001b[0;32m   2088\u001b[0m         \u001b[0mmappable\u001b[0m \u001b[1;33m=\u001b[0m \u001b[0mgci\u001b[0m\u001b[1;33m(\u001b[0m\u001b[1;33m)\u001b[0m\u001b[1;33m\u001b[0m\u001b[0m\n\u001b[0;32m   2089\u001b[0m         \u001b[1;32mif\u001b[0m \u001b[0mmappable\u001b[0m \u001b[1;32mis\u001b[0m \u001b[1;32mNone\u001b[0m\u001b[1;33m:\u001b[0m\u001b[1;33m\u001b[0m\u001b[0m\n\u001b[1;32m-> 2090\u001b[1;33m             raise RuntimeError('No mappable was found to use for colorbar '\n\u001b[0m\u001b[0;32m   2091\u001b[0m                                \u001b[1;34m'creation. First define a mappable such as '\u001b[0m\u001b[1;33m\u001b[0m\u001b[0m\n\u001b[0;32m   2092\u001b[0m                                \u001b[1;34m'an image (with imshow) or a contour set ('\u001b[0m\u001b[1;33m\u001b[0m\u001b[0m\n",
      "\u001b[1;31mRuntimeError\u001b[0m: No mappable was found to use for colorbar creation. First define a mappable such as an image (with imshow) or a contour set (with contourf)."
     ]
    },
    {
     "data": {
      "image/png": "[encoded data removed]",
      "text/plain": [
       "<Figure size 360x720 with 7 Axes>"
      ]
     },
     "metadata": {
      "needs_background": "light"
     },
     "output_type": "display_data"
    }
   ],
   "source": [
    "fig, axs = plt.subplots(nrows=1, ncols=7, figsize=(5,10))\n",
    "for i in range(7):\n",
    "    axs[i].imshow(sparse[:, i:i+1], vmin=0, vmax=1)\n",
    "#     axs[i].grid(which='both')\n",
    "    axs[i].set_yticks(range(0, 18))\n",
    "    axs[i].set_xticks([])\n",
    "# plt.imshow(sparse)\n",
    "plt.colorbar()"
   ]
  },
  {
   "cell_type": "code",
   "execution_count": 53,
   "metadata": {},
   "outputs": [
    {
     "data": {
      "text/plain": [
       "<function matplotlib.pyplot.title(label, fontdict=None, loc='center', pad=None, **kwargs)>"
      ]
     },
     "execution_count": 53,
     "metadata": {},
     "output_type": "execute_result"
    }
   ],
   "source": [
    "plt.ylabel()"
   ]
  },
  {
   "cell_type": "code",
   "execution_count": 275,
   "metadata": {},
   "outputs": [
    {
     "data": {
      "image/png": "[encoded data removed]",
      "text/plain": [
       "<Figure size 360x1080 with 18 Axes>"
      ]
     },
     "metadata": {},
     "output_type": "display_data"
    }
   ],
   "source": [
    "fig, axs = plt.subplots(nrows=18, ncols=1, figsize=(5,15))\n",
    "order = range(0, 9)\n",
    "new_order = []\n",
    "for o in order:\n",
    "    new_order.append(o)\n",
    "    new_order.append(o + 9)\n",
    "for i in range(len(new_order)):\n",
    "    no = new_order[i]\n",
    "    axs[i].imshow(sparse[no:no+1, :], vmin=0, vmax=1)\n",
    "#     axs[i].grid(which='both')\n",
    "    axs[i].set_yticks([])\n",
    "    axs[i].set_xticks([])\n",
    "    axs[i].set_ylabel(muscle_names[no], rotation=0, labelpad=60)\n",
    "# plt.imshow(sparse)\n",
    "# plt.colorbar()"
   ]
  },
  {
   "cell_type": "code",
   "execution_count": 36,
   "metadata": {},
   "outputs": [
    {
     "data": {
      "image/png": "[encoded data removed]",
      "text/plain": [
       "<Figure size 360x720 with 5 Axes>"
      ]
     },
     "metadata": {
      "needs_background": "light"
     },
     "output_type": "display_data"
    }
   ],
   "source": [
    "fig, axs = plt.subplots(nrows=1, ncols=5, figsize=(5,10))\n",
    "for i in range(5):\n",
    "    axs[i].imshow(sparse[:, i:i+1])\n",
    "#     axs[i].grid(which='both')\n",
    "    axs[i].set_yticks(range(0, 18))\n",
    "    axs[i].set_xticks([])\n",
    "# plt.imshow(sparse)\n",
    "# plt.colorbar()"
   ]
  },
  {
   "cell_type": "code",
   "execution_count": 45,
   "metadata": {},
   "outputs": [],
   "source": [
    "rando = np.random.normal(size=(3, 10000))"
   ]
  },
  {
   "cell_type": "code",
   "execution_count": 9,
   "metadata": {},
   "outputs": [],
   "source": [
    "means = np.random.uniform(size=(3))\n",
    "stds = np.random.uniform(low=0.5, high=1.0, size=(3))"
   ]
  },
  {
   "cell_type": "code",
   "execution_count": 94,
   "metadata": {},
   "outputs": [
    {
     "data": {
      "text/plain": [
       "array([[0.81051167, 0.81051167, 0.81051167, ..., 0.81051167, 0.81051167,\n",
       "        0.81051167],\n",
       "       [0.61928815, 0.61928815, 0.61928815, ..., 0.61928815, 0.61928815,\n",
       "        0.61928815],\n",
       "       [0.4125484 , 0.4125484 , 0.4125484 , ..., 0.4125484 , 0.4125484 ,\n",
       "        0.4125484 ]])"
      ]
     },
     "execution_count": 94,
     "metadata": {},
     "output_type": "execute_result"
    }
   ],
   "source": []
  },
  {
   "cell_type": "code",
   "execution_count": 11,
   "metadata": {},
   "outputs": [],
   "source": []
  },
  {
   "cell_type": "code",
   "execution_count": 16,
   "metadata": {},
   "outputs": [
    {
     "data": {
      "text/plain": [
       "array([[0.45932581, 0.20445536, 0.95618472],\n",
       "       [0.35901118, 0.49222343, 0.10571187],\n",
       "       [0.98629551, 0.0895999 , 0.29721557],\n",
       "       [0.17883771, 0.43361445, 0.91591809],\n",
       "       [0.30825233, 0.92203951, 0.32776456]])"
      ]
     },
     "execution_count": 16,
     "metadata": {},
     "output_type": "execute_result"
    }
   ],
   "source": [
    "linear_layer"
   ]
  },
  {
   "cell_type": "code",
   "execution_count": 12,
   "metadata": {},
   "outputs": [],
   "source": [
    "lindos = []\n",
    "for i in range(rando.shape[1]):\n",
    "    lindos.append(np.matmul(linear_layer, rando[:,i]))\n",
    "lindos = np.array(lindos)"
   ]
  },
  {
   "cell_type": "code",
   "execution_count": 79,
   "metadata": {},
   "outputs": [
    {
     "data": {
      "text/plain": [
       "(1000, 5)"
      ]
     },
     "execution_count": 79,
     "metadata": {},
     "output_type": "execute_result"
    }
   ],
   "source": []
  },
  {
   "cell_type": "code",
   "execution_count": 34,
   "metadata": {},
   "outputs": [
    {
     "data": {
      "image/png": "[encoded data removed]",
      "text/plain": [
       "<Figure size 360x1800 with 5 Axes>"
      ]
     },
     "metadata": {
      "needs_background": "light"
     },
     "output_type": "display_data"
    }
   ],
   "source": [
    "linear_layer = np.ones(shape=(5,3))\n",
    "fig, axs = plt.subplots(nrows=lindos.shape[1], ncols=1, figsize=(5, 25))\n",
    "for i in range(5):\n",
    "    axs[i].hist(lindos[:,i])\n",
    "    # lets estimate liklihood....\n",
    "    pt = np.random.uniform()\n",
    "    \n",
    "    liklihood = lindos.shape[0]/np.sum(np.tanh(np.abs(lindos[:,i] - pt)))\n",
    "    axs[i].vlines(pt, 0, 350, label=str(liklihood))\n",
    "    axs[i].legend()\n",
    "#     axs[i].scatter(0.8, 350, color='r')\n"
   ]
  },
  {
   "cell_type": "code",
   "execution_count": 47,
   "metadata": {},
   "outputs": [
    {
     "data": {
      "image/png": "[encoded data removed]",
      "text/plain": [
       "<Figure size 360x1800 with 3 Axes>"
      ]
     },
     "metadata": {
      "needs_background": "light"
     },
     "output_type": "display_data"
    }
   ],
   "source": [
    "fig, axs = plt.subplots(nrows=rando.shape[0], ncols=1, figsize=(5, 25))\n",
    "for i in range(3):\n",
    "    axs[i].hist(rando[i,:])\n",
    "    pt = np.random.uniform()\n",
    "    liklihood = rando.shape[1]/np.sum(np.tanh(np.abs(rando[i,:] - pt)))\n",
    "    axs[i].vlines(pt, 0, 3000, label=str(liklihood))\n",
    "    axs[i].legend()\n",
    "    axs[i].set_title(str(pt))\n"
   ]
  },
  {
   "cell_type": "code",
   "execution_count": 227,
   "metadata": {},
   "outputs": [],
   "source": [
    "normy = torch.distributions.normal.Normal(mean,torch.ones(mean.shape))"
   ]
  },
  {
   "cell_type": "code",
   "execution_count": 230,
   "metadata": {},
   "outputs": [
    {
     "data": {
      "text/plain": [
       "tensor([-0.9189, -0.9189, -0.9189, -0.9189, -0.9189, -0.9189, -0.9189, -0.9189,\n",
       "        -0.9189, -0.9189, -0.9189, -0.9189])"
      ]
     },
     "execution_count": 230,
     "metadata": {},
     "output_type": "execute_result"
    }
   ],
   "source": [
    "normy.log_prob(mean)"
   ]
  },
  {
   "cell_type": "code",
   "execution_count": 217,
   "metadata": {},
   "outputs": [
    {
     "data": {
      "text/plain": [
       "[<matplotlib.lines.Line2D at 0x1b9cb7a66a0>]"
      ]
     },
     "execution_count": 217,
     "metadata": {},
     "output_type": "execute_result"
    },
    {
     "data": {
      "image/png": "[encoded data removed]",
      "text/plain": [
       "<Figure size 432x288 with 1 Axes>"
      ]
     },
     "metadata": {
      "needs_background": "light"
     },
     "output_type": "display_data"
    }
   ],
   "source": [
    "returns = np.load('returns/skelefactor_walk_good_bio_positive_enforcement_7fact.npy')\n",
    "plt.plot(np.convolve(np.ones(50)/50, returns, mode='valid'))"
   ]
  },
  {
   "cell_type": "code",
   "execution_count": 52,
   "metadata": {},
   "outputs": [
    {
     "data": {
      "text/plain": [
       "[<matplotlib.lines.Line2D at 0x1b9c8a82b00>]"
      ]
     },
     "execution_count": 52,
     "metadata": {},
     "output_type": "execute_result"
    },
    {
     "data": {
      "image/png": "[encoded data removed]",
      "text/plain": [
       "<Figure size 432x288 with 1 Axes>"
      ]
     },
     "metadata": {
      "needs_background": "light"
     },
     "output_type": "display_data"
    }
   ],
   "source": []
  },
  {
   "cell_type": "code",
   "execution_count": 65,
   "metadata": {},
   "outputs": [],
   "source": [
    "import gym"
   ]
  },
  {
   "cell_type": "code",
   "execution_count": 66,
   "metadata": {},
   "outputs": [],
   "source": [
    "from gym.envs.classic_control import AcrobotEnv"
   ]
  },
  {
   "cell_type": "code",
   "execution_count": 213,
   "metadata": {},
   "outputs": [
    {
     "name": "stdout",
     "output_type": "stream",
     "text": [
      "\u001b[33mWARN: gym.spaces.Box autodetected dtype as <class 'numpy.float32'>. Please provide explicit dtype.\u001b[0m\n"
     ]
    }
   ],
   "source": [
    "e = AcrobotEnv()"
   ]
  },
  {
   "cell_type": "code",
   "execution_count": 214,
   "metadata": {},
   "outputs": [
    {
     "data": {
      "text/plain": [
       "Discrete(3)"
      ]
     },
     "execution_count": 214,
     "metadata": {},
     "output_type": "execute_result"
    }
   ],
   "source": [
    "e.action_space"
   ]
  },
  {
   "cell_type": "code",
   "execution_count": 82,
   "metadata": {},
   "outputs": [],
   "source": [
    "regular = [7, 50, 100, 150, 200, 250, 300]\n",
    "regular_rewards = [-500, -173.3, -95, -102, -83.8, -92.2, -81.8]"
   ]
  },
  {
   "cell_type": "code",
   "execution_count": 84,
   "metadata": {},
   "outputs": [
    {
     "data": {
      "text/plain": [
       "[<matplotlib.lines.Line2D at 0x1b9c7693f98>]"
      ]
     },
     "execution_count": 84,
     "metadata": {},
     "output_type": "execute_result"
    },
    {
     "data": {
      "image/png": "[encoded data removed]",
      "text/plain": [
       "<Figure size 432x288 with 1 Axes>"
      ]
     },
     "metadata": {
      "needs_background": "light"
     },
     "output_type": "display_data"
    }
   ],
   "source": [
    "plt.figure()\n",
    "plt.plot(regular, regular_rewards, label='reg')"
   ]
  },
  {
   "cell_type": "code",
   "execution_count": 237,
   "metadata": {},
   "outputs": [],
   "source": [
    "mean = torch.ones((12)).float()\n",
    "normy = torch.distributions.Normal(mean,mean)"
   ]
  },
  {
   "cell_type": "code",
   "execution_count": 116,
   "metadata": {},
   "outputs": [
    {
     "data": {
      "text/plain": [
       "torch.Size([12, 4, 12, 4])"
      ]
     },
     "execution_count": 116,
     "metadata": {},
     "output_type": "execute_result"
    }
   ],
   "source": [
    "mean.size() + mean.size()"
   ]
  },
  {
   "cell_type": "code",
   "execution_count": 105,
   "metadata": {},
   "outputs": [
    {
     "data": {
      "text/plain": [
       "tensor([1., 1., 1., 1., 1., 1., 1., 1., 1., 1., 1., 2.])"
      ]
     },
     "execution_count": 105,
     "metadata": {},
     "output_type": "execute_result"
    }
   ],
   "source": [
    "mean.index_add_(0, (torch.ones(1)*11).long(), torch.ones(1))"
   ]
  },
  {
   "cell_type": "code",
   "execution_count": 295,
   "metadata": {},
   "outputs": [
    {
     "ename": "TypeError",
     "evalue": "'module' object is not callable",
     "output_type": "error",
     "traceback": [
      "\u001b[1;31m---------------------------------------------------------------------------\u001b[0m",
      "\u001b[1;31mTypeError\u001b[0m                                 Traceback (most recent call last)",
      "\u001b[1;32m<ipython-input-295-3d7a40fdc833>\u001b[0m in \u001b[0;36m<module>\u001b[1;34m()\u001b[0m\n\u001b[1;32m----> 1\u001b[1;33m \u001b[0mhack\u001b[0m \u001b[1;33m=\u001b[0m \u001b[0mtorch\u001b[0m\u001b[1;33m.\u001b[0m\u001b[0mrandom\u001b[0m\u001b[1;33m(\u001b[0m\u001b[1;33m(\u001b[0m\u001b[1;36m2000\u001b[0m\u001b[1;33m)\u001b[0m\u001b[1;33m)\u001b[0m\u001b[1;33m\u001b[0m\u001b[0m\n\u001b[0m\u001b[0;32m      2\u001b[0m \u001b[0msamples\u001b[0m \u001b[1;33m=\u001b[0m \u001b[0mnormy\u001b[0m\u001b[1;33m.\u001b[0m\u001b[0msample\u001b[0m\u001b[1;33m(\u001b[0m\u001b[0mhack\u001b[0m\u001b[1;33m.\u001b[0m\u001b[0msize\u001b[0m\u001b[1;33m(\u001b[0m\u001b[1;33m)\u001b[0m\u001b[1;33m)\u001b[0m\u001b[1;33m\u001b[0m\u001b[0m\n",
      "\u001b[1;31mTypeError\u001b[0m: 'module' object is not callable"
     ]
    }
   ],
   "source": [
    "hack = torch.ones((200))\n",
    "samples = normy.sample(hack.size())"
   ]
  },
  {
   "cell_type": "code",
   "execution_count": 234,
   "metadata": {},
   "outputs": [
    {
     "data": {
      "text/plain": [
       "torch.Size([1000, 12])"
      ]
     },
     "execution_count": 234,
     "metadata": {},
     "output_type": "execute_result"
    }
   ],
   "source": [
    "samples.shape"
   ]
  },
  {
   "cell_type": "code",
   "execution_count": 322,
   "metadata": {},
   "outputs": [],
   "source": [
    "linear = torch.randn((12, 24))*12"
   ]
  },
  {
   "cell_type": "code",
   "execution_count": 323,
   "metadata": {},
   "outputs": [],
   "source": [
    "r = torch.matmul(samples, linear)"
   ]
  },
  {
   "cell_type": "code",
   "execution_count": 324,
   "metadata": {},
   "outputs": [],
   "source": [
    "m = torch.matmul(mean, linear)"
   ]
  },
  {
   "cell_type": "code",
   "execution_count": 305,
   "metadata": {},
   "outputs": [
    {
     "data": {
      "text/plain": [
       "torch.Size([24])"
      ]
     },
     "execution_count": 305,
     "metadata": {},
     "output_type": "execute_result"
    }
   ],
   "source": [
    "m.shape"
   ]
  },
  {
   "cell_type": "code",
   "execution_count": 286,
   "metadata": {},
   "outputs": [
    {
     "data": {
      "text/plain": [
       "tensor([-0.9189, -0.9189, -0.9189, -0.9189, -0.9189, -0.9189, -0.9189, -0.9189,\n",
       "        -0.9189, -0.9189, -0.9189, -0.9189])"
      ]
     },
     "execution_count": 286,
     "metadata": {},
     "output_type": "execute_result"
    }
   ],
   "source": [
    "normy.log_prob(mean)"
   ]
  },
  {
   "cell_type": "code",
   "execution_count": 273,
   "metadata": {},
   "outputs": [
    {
     "name": "stdout",
     "output_type": "stream",
     "text": [
      "tensor(-6.6163)\n",
      "tensor(-6.6172)\n",
      "tensor(-6.6159)\n",
      "tensor(-6.6171)\n",
      "tensor(-6.6165)\n",
      "tensor(-6.6160)\n",
      "tensor(-6.6160)\n",
      "tensor(-6.6163)\n",
      "tensor(-6.6161)\n",
      "tensor(-6.6163)\n",
      "tensor(-6.6159)\n",
      "tensor(-6.6166)\n"
     ]
    }
   ],
   "source": [
    "for i,m in enumerate(mean):\n",
    "#     print(sampl)\n",
    "#     print(1000/torch.sum(torch.tanh(torch.abs(samples[:,i] - m))))\n",
    "    print(torch.log(samples.shape[0]/4.5/torch.sum((torch.abs(samples[:,i] - m -166)))))\n",
    "    "
   ]
  },
  {
   "cell_type": "code",
   "execution_count": 278,
   "metadata": {},
   "outputs": [
    {
     "ename": "AttributeError",
     "evalue": "module 'torch' has no attribute 'SigmoidTransform'",
     "output_type": "error",
     "traceback": [
      "\u001b[1;31m---------------------------------------------------------------------------\u001b[0m",
      "\u001b[1;31mAttributeError\u001b[0m                            Traceback (most recent call last)",
      "\u001b[1;32m<ipython-input-278-2ebec282e6c4>\u001b[0m in \u001b[0;36m<module>\u001b[1;34m()\u001b[0m\n\u001b[0;32m      4\u001b[0m \u001b[1;31m# Y ~ f(X) ~ Logistic(a, b)\u001b[0m\u001b[1;33m\u001b[0m\u001b[1;33m\u001b[0m\u001b[0m\n\u001b[0;32m      5\u001b[0m \u001b[0mbase_distribution\u001b[0m \u001b[1;33m=\u001b[0m \u001b[0mtorch\u001b[0m\u001b[1;33m.\u001b[0m\u001b[0mdistributions\u001b[0m\u001b[1;33m.\u001b[0m\u001b[0mUniform\u001b[0m\u001b[1;33m(\u001b[0m\u001b[1;36m0\u001b[0m\u001b[1;33m,\u001b[0m \u001b[1;36m1\u001b[0m\u001b[1;33m)\u001b[0m\u001b[1;33m\u001b[0m\u001b[0m\n\u001b[1;32m----> 6\u001b[1;33m \u001b[0mtransforms\u001b[0m \u001b[1;33m=\u001b[0m \u001b[1;33m[\u001b[0m\u001b[0mtorch\u001b[0m\u001b[1;33m.\u001b[0m\u001b[0mSigmoidTransform\u001b[0m\u001b[1;33m(\u001b[0m\u001b[1;33m)\u001b[0m\u001b[1;33m.\u001b[0m\u001b[0minv\u001b[0m\u001b[1;33m,\u001b[0m \u001b[0mAffineTransform\u001b[0m\u001b[1;33m(\u001b[0m\u001b[0mloc\u001b[0m\u001b[1;33m=\u001b[0m\u001b[0ma\u001b[0m\u001b[1;33m,\u001b[0m \u001b[0mscale\u001b[0m\u001b[1;33m=\u001b[0m\u001b[0mb\u001b[0m\u001b[1;33m)\u001b[0m\u001b[1;33m]\u001b[0m\u001b[1;33m\u001b[0m\u001b[0m\n\u001b[0m\u001b[0;32m      7\u001b[0m \u001b[0mlogistic\u001b[0m \u001b[1;33m=\u001b[0m \u001b[0mTransformedDistribution\u001b[0m\u001b[1;33m(\u001b[0m\u001b[0mbase_distribution\u001b[0m\u001b[1;33m,\u001b[0m \u001b[0mtransforms\u001b[0m\u001b[1;33m)\u001b[0m\u001b[1;33m\u001b[0m\u001b[0m\n",
      "\u001b[1;31mAttributeError\u001b[0m: module 'torch' has no attribute 'SigmoidTransform'"
     ]
    }
   ],
   "source": [
    "# Building a Logistic Distribution\n",
    "# X ~ Uniform(0, 1)\n",
    "# f = a + b * logit(X)\n",
    "# Y ~ f(X) ~ Logistic(a, b)\n",
    "base_distribution = torch.distributions.Uniform(0, 1)\n",
    "transforms = [torch.distributions.transforms.().inv, AffineTransform(loc=a, scale=b)]\n",
    "logistic = TransformedDistribution(base_distribution, transforms)"
   ]
  },
  {
   "cell_type": "code",
   "execution_count": 279,
   "metadata": {},
   "outputs": [],
   "source": [
    "import scipy"
   ]
  },
  {
   "cell_type": "code",
   "execution_count": 292,
   "metadata": {},
   "outputs": [
    {
     "data": {
      "text/plain": [
       "torch.Size([12])"
      ]
     },
     "execution_count": 292,
     "metadata": {},
     "output_type": "execute_result"
    }
   ],
   "source": [
    "mean.shape"
   ]
  },
  {
   "cell_type": "code",
   "execution_count": 306,
   "metadata": {},
   "outputs": [
    {
     "data": {
      "text/plain": [
       "torch.Size([2000, 24])"
      ]
     },
     "execution_count": 306,
     "metadata": {},
     "output_type": "execute_result"
    }
   ],
   "source": [
    "r.shape"
   ]
  },
  {
   "cell_type": "code",
   "execution_count": 325,
   "metadata": {},
   "outputs": [],
   "source": [
    "gkde = scipy.stats.gaussian_kde(r[:,0].numpy())"
   ]
  },
  {
   "cell_type": "code",
   "execution_count": 326,
   "metadata": {},
   "outputs": [
    {
     "data": {
      "text/plain": [
       "<matplotlib.collections.LineCollection at 0x1b9ce4495f8>"
      ]
     },
     "execution_count": 326,
     "metadata": {},
     "output_type": "execute_result"
    },
    {
     "data": {
      "image/png": "[encoded data removed]",
      "text/plain": [
       "<Figure size 432x288 with 1 Axes>"
      ]
     },
     "metadata": {
      "needs_background": "light"
     },
     "output_type": "display_data"
    }
   ],
   "source": [
    "plt.figure()\n",
    "plt.hist(r[:,0].flatten())\n",
    "plt.vlines(m[0], 0, 500)"
   ]
  },
  {
   "cell_type": "code",
   "execution_count": 334,
   "metadata": {},
   "outputs": [
    {
     "data": {
      "text/plain": [
       "tensor([-4.5232], dtype=torch.float64)"
      ]
     },
     "execution_count": 334,
     "metadata": {},
     "output_type": "execute_result"
    }
   ],
   "source": [
    "torch.from_numpy(gkde.logpdf(m[0]-6))"
   ]
  },
  {
   "cell_type": "code",
   "execution_count": 320,
   "metadata": {},
   "outputs": [
    {
     "data": {
      "text/plain": [
       "tensor(-3.7786)"
      ]
     },
     "execution_count": 320,
     "metadata": {},
     "output_type": "execute_result"
    }
   ],
   "source": [
    "m[0]"
   ]
  }
 ],
 "metadata": {
  "kernelspec": {
   "display_name": "Python 3",
   "language": "python",
   "name": "python3"
  },
  "language_info": {
   "codemirror_mode": {
    "name": "ipython",
    "version": 3
   },
   "file_extension": ".py",
   "mimetype": "text/x-python",
   "name": "python",
   "nbconvert_exporter": "python",
   "pygments_lexer": "ipython3",
   "version": "3.6.6"
  }
 },
 "nbformat": 4,
 "nbformat_minor": 2
}
