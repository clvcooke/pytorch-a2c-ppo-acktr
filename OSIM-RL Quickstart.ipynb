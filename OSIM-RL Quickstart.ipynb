{
 "cells": [
  {
   "cell_type": "code",
   "execution_count": 1,
   "metadata": {},
   "outputs": [],
   "source": [
    "from osim.env import L2RunEnv\n",
    "from osim.env import ProstheticsEnv\n"
   ]
  },
  {
   "cell_type": "code",
   "execution_count": 2,
   "metadata": {},
   "outputs": [
    {
     "name": "stdout",
     "output_type": "stream",
     "text": [
      "\u001b[33mWARN: gym.spaces.Box autodetected dtype as <class 'numpy.float32'>. Please provide explicit dtype.\u001b[0m\n",
      "\u001b[33mWARN: gym.spaces.Box autodetected dtype as <class 'numpy.float32'>. Please provide explicit dtype.\u001b[0m\n"
     ]
    }
   ],
   "source": [
    "env = L2RunEnv(visualize=True)"
   ]
  },
  {
   "cell_type": "code",
   "execution_count": 11,
   "metadata": {},
   "outputs": [
    {
     "ename": "TypeError",
     "evalue": "reset() got an unexpected keyword argument 'difficulty'",
     "output_type": "error",
     "traceback": [
      "\u001b[1;31m---------------------------------------------------------------------------\u001b[0m",
      "\u001b[1;31mTypeError\u001b[0m                                 Traceback (most recent call last)",
      "\u001b[1;32m<ipython-input-11-2afc5fabc4ed>\u001b[0m in \u001b[0;36m<module>\u001b[1;34m()\u001b[0m\n\u001b[1;32m----> 1\u001b[1;33m \u001b[0mobservation\u001b[0m \u001b[1;33m=\u001b[0m \u001b[0menv\u001b[0m\u001b[1;33m.\u001b[0m\u001b[0mreset\u001b[0m\u001b[1;33m(\u001b[0m\u001b[0mproject\u001b[0m\u001b[1;33m=\u001b[0m\u001b[1;32mTrue\u001b[0m\u001b[1;33m,\u001b[0m \u001b[0mdifficulty\u001b[0m\u001b[1;33m=\u001b[0m\u001b[1;36m0\u001b[0m\u001b[1;33m)\u001b[0m\u001b[1;33m\u001b[0m\u001b[0m\n\u001b[0m",
      "\u001b[1;31mTypeError\u001b[0m: reset() got an unexpected keyword argument 'difficulty'"
     ]
    }
   ],
   "source": [
    "observation = env.reset(project=True)\n",
    "env.re"
   ]
  },
  {
   "cell_type": "code",
   "execution_count": 10,
   "metadata": {},
   "outputs": [
    {
     "data": {
      "text/plain": [
       "[-0.05,\n",
       " 0.0,\n",
       " 0.91,\n",
       " 0.0,\n",
       " 0.0,\n",
       " 0.0,\n",
       " 0.0,\n",
       " 0.0,\n",
       " 0.0,\n",
       " 0.0,\n",
       " 0.0,\n",
       " 0.0,\n",
       " 0.0,\n",
       " 0.0,\n",
       " 0.0,\n",
       " 0.0,\n",
       " 0.0,\n",
       " 0.0,\n",
       " 0.007169537779780744,\n",
       " 1.5365721883823606,\n",
       " 0.0,\n",
       " 0.91,\n",
       " -0.09650084892621281,\n",
       " 0.9964310485677471,\n",
       " 0.007987580127344573,\n",
       " -0.027441466796053905,\n",
       " 0.007987580127344573,\n",
       " -0.027441466796053905,\n",
       " -0.11968333174236659,\n",
       " 0.022952398528571172,\n",
       " -0.11968333174236659,\n",
       " 0.022952398528571172,\n",
       " -0.06973431783842708,\n",
       " 0.9707692842528318,\n",
       " 0.0,\n",
       " 0.0,\n",
       " 0.0,\n",
       " 0.0,\n",
       " 0,\n",
       " 0,\n",
       " 0,\n",
       " 0,\n",
       " 0]"
      ]
     },
     "execution_count": 10,
     "metadata": {},
     "output_type": "execute_result"
    }
   ],
   "source": [
    "observation"
   ]
  },
  {
   "cell_type": "code",
   "execution_count": 8,
   "metadata": {
    "scrolled": false
   },
   "outputs": [
    {
     "data": {
      "text/plain": [
       "{'joint_pos': {'ground_pelvis': [-0.05, 0.0, 0.91],\n",
       "  'hip_r': [0.0],\n",
       "  'knee_r': [0.0],\n",
       "  'ankle_r': [0.0],\n",
       "  'subtalar_r': [],\n",
       "  'mtp_r': [],\n",
       "  'hip_l': [0.0],\n",
       "  'knee_l': [0.0],\n",
       "  'ankle_l': [0.0],\n",
       "  'subtalar_l': [],\n",
       "  'mtp_l': [],\n",
       "  'back': [-0.139626],\n",
       "  'back1': []},\n",
       " 'joint_vel': {'ground_pelvis': [0.0, 0.0, 0.0],\n",
       "  'hip_r': [0.0],\n",
       "  'knee_r': [0.0],\n",
       "  'ankle_r': [0.0],\n",
       "  'subtalar_r': [],\n",
       "  'mtp_r': [],\n",
       "  'hip_l': [0.0],\n",
       "  'knee_l': [0.0],\n",
       "  'ankle_l': [0.0],\n",
       "  'subtalar_l': [],\n",
       "  'mtp_l': [],\n",
       "  'back': [0.0],\n",
       "  'back1': []},\n",
       " 'joint_acc': {'ground_pelvis': [24.195893055832826,\n",
       "   11.631283304067308,\n",
       "   3.258895326698422],\n",
       "  'hip_r': [-166.3421230159185],\n",
       "  'knee_r': [259.57822281558106],\n",
       "  'ankle_r': [2925.2721850812236],\n",
       "  'subtalar_r': [],\n",
       "  'mtp_r': [],\n",
       "  'hip_l': [-166.3421230159185],\n",
       "  'knee_l': [259.57822281558106],\n",
       "  'ankle_l': [2925.2721850812236],\n",
       "  'subtalar_l': [],\n",
       "  'mtp_l': [],\n",
       "  'back': [1.5987211554602254e-14],\n",
       "  'back1': []},\n",
       " 'body_pos': {'pelvis': [0.0, 0.91, 0.0],\n",
       "  'femur_r': [-0.07391526649871595, 0.8475161350553297, 0.0835],\n",
       "  'tibia_r': [-0.09819228895597491, 0.45241501049840666, 0.0835],\n",
       "  'talus_r': [-0.11968333174236659, 0.022952398528571172, 0.0835],\n",
       "  'calcn_r': [-0.17048900809273404, -0.016507690809666686, 0.09142],\n",
       "  'toes_r': [0.007987580127344573, -0.027441466796053905, 0.0925],\n",
       "  'femur_l': [-0.07391526649871595, 0.8475161350553297, -0.0835],\n",
       "  'tibia_l': [-0.09819228895597491, 0.45241501049840666, -0.0835],\n",
       "  'talus_l': [-0.11968333174236659, 0.022952398528571172, -0.0835],\n",
       "  'calcn_l': [-0.17048900809273404, -0.016507690809666686, -0.09142],\n",
       "  'toes_l': [0.007987580127344573, -0.027441466796053905, -0.0925],\n",
       "  'torso': [-0.09650084892621281, 0.9964310485677471, 0.0],\n",
       "  'head': [0.007169537779780744, 1.5365721883823606, 0.0]},\n",
       " 'body_vel': {'pelvis': [0.0, 0.0, 0.0],\n",
       "  'femur_r': [0.0, 0.0, 0.0],\n",
       "  'tibia_r': [0.0, 0.0, 0.0],\n",
       "  'talus_r': [0.0, 0.0, 0.0],\n",
       "  'calcn_r': [0.0, 0.0, 0.0],\n",
       "  'toes_r': [0.0, 0.0, 0.0],\n",
       "  'femur_l': [0.0, 0.0, 0.0],\n",
       "  'tibia_l': [0.0, 0.0, 0.0],\n",
       "  'talus_l': [0.0, 0.0, 0.0],\n",
       "  'calcn_l': [0.0, 0.0, 0.0],\n",
       "  'toes_l': [0.0, 0.0, 0.0],\n",
       "  'torso': [0.0, 0.0, 0.0],\n",
       "  'head': [0.0, 0.0, 0.0]},\n",
       " 'body_acc': {'pelvis': [11.631283304067308, 3.258895326698422, 0.0],\n",
       "  'femur_r': [13.143136217983653, 1.470449443302108, 0.0],\n",
       "  'tibia_r': [-44.431592059825135, 6.0214064031480925, 0.0],\n",
       "  'talus_r': [6.001058320718961, 3.497670420199399, 0.0],\n",
       "  'calcn_r': [126.06643701193147, -151.08897327396446, 0.0],\n",
       "  'toes_r': [159.33468288633603, 391.9624873671602, 0.0],\n",
       "  'femur_l': [13.143136217983653, 1.470449443302108, 0.0],\n",
       "  'tibia_l': [-44.431592059825135, 6.0214064031480925, 0.0],\n",
       "  'talus_l': [6.001058320718961, 3.497670420199399, 0.0],\n",
       "  'calcn_l': [126.06643701193147, -151.08897327396446, 0.0],\n",
       "  'toes_l': [159.33468288633603, 391.9624873671602, 0.0],\n",
       "  'torso': [9.540006896218607, 0.9239711062826967, 0.0],\n",
       "  'head': [-3.5291903577914354, 3.4323686960777513, 0.0]},\n",
       " 'body_pos_rot': {'pelvis': [-0.0, 0.0, -0.05],\n",
       "  'femur_r': [-0.0, 0.0, -0.05],\n",
       "  'tibia_r': [-0.0, 0.0, -0.05],\n",
       "  'talus_r': [-0.0, 0.0, -0.05],\n",
       "  'calcn_r': [-0.0, 0.0, -0.05],\n",
       "  'toes_r': [-0.0, 0.0, -0.05],\n",
       "  'femur_l': [-0.0, 0.0, -0.05],\n",
       "  'tibia_l': [-0.0, 0.0, -0.05],\n",
       "  'talus_l': [-0.0, 0.0, -0.05],\n",
       "  'calcn_l': [-0.0, 0.0, -0.05],\n",
       "  'toes_l': [-0.0, 0.0, -0.05],\n",
       "  'torso': [-0.0, 0.0, -0.18962600000000002],\n",
       "  'head': [-0.0, 0.0, -0.18962600000000002]},\n",
       " 'body_vel_rot': {'pelvis': [0.0, 0.0, 0.0],\n",
       "  'femur_r': [0.0, 0.0, 0.0],\n",
       "  'tibia_r': [0.0, 0.0, 0.0],\n",
       "  'talus_r': [0.0, 0.0, 0.0],\n",
       "  'calcn_r': [0.0, 0.0, 0.0],\n",
       "  'toes_r': [0.0, 0.0, 0.0],\n",
       "  'femur_l': [0.0, 0.0, 0.0],\n",
       "  'tibia_l': [0.0, 0.0, 0.0],\n",
       "  'talus_l': [0.0, 0.0, 0.0],\n",
       "  'calcn_l': [0.0, 0.0, 0.0],\n",
       "  'toes_l': [0.0, 0.0, 0.0],\n",
       "  'torso': [0.0, 0.0, 0.0],\n",
       "  'head': [0.0, 0.0, 0.0]},\n",
       " 'body_acc_rot': {'pelvis': [0.0, 0.0, 24.195893055832826],\n",
       "  'femur_r': [0.0, 0.0, -142.1462299600857],\n",
       "  'tibia_r': [0.0, 0.0, 117.43199285549537],\n",
       "  'talus_r': [0.0, 0.0, 3042.704177936719],\n",
       "  'calcn_r': [0.0, 0.0, 3042.704177936719],\n",
       "  'toes_r': [0.0, 0.0, 3042.704177936719],\n",
       "  'femur_l': [0.0, 0.0, -142.1462299600857],\n",
       "  'tibia_l': [0.0, 0.0, 117.43199285549537],\n",
       "  'talus_l': [0.0, 0.0, 3042.704177936719],\n",
       "  'calcn_l': [0.0, 0.0, 3042.704177936719],\n",
       "  'toes_l': [0.0, 0.0, 3042.704177936719],\n",
       "  'torso': [0.0, 0.0, 24.19589305583284],\n",
       "  'head': [0.0, 0.0, 24.19589305583284]},\n",
       " 'forces': {'hamstrings_r': [194.30030504347354],\n",
       "  'bifemsh_r': [42.728811234363775],\n",
       "  'glut_max_r': [171.7873509605573],\n",
       "  'iliopsoas_r': [158.01207984383657],\n",
       "  'rect_fem_r': [99.0329705435046],\n",
       "  'vasti_r': [436.79388413623326],\n",
       "  'gastroc_r': [273.0178325689043],\n",
       "  'soleus_r': [370.0059951709156],\n",
       "  'tib_ant_r': [104.05059952034294],\n",
       "  'hamstrings_l': [194.30030504347354],\n",
       "  'bifemsh_l': [42.728811234363775],\n",
       "  'glut_max_l': [171.7873509605573],\n",
       "  'iliopsoas_l': [158.01207984383657],\n",
       "  'rect_fem_l': [99.0329705435046],\n",
       "  'vasti_l': [436.79388413623326],\n",
       "  'gastroc_l': [273.0178325689043],\n",
       "  'soleus_l': [370.0059951709156],\n",
       "  'tib_ant_l': [104.05059952034294],\n",
       "  'foot_r': [-2.7379093945337696e-12,\n",
       "   -784.1684170195072,\n",
       "   0.0,\n",
       "   72.21456981183398,\n",
       "   -2.52135822890603e-13,\n",
       "   21.721712390039563,\n",
       "   1.0377741701580314e-12,\n",
       "   297.230335620779,\n",
       "   0.0,\n",
       "   0.0,\n",
       "   0.0,\n",
       "   9.499979263210903,\n",
       "   1.7001352243757383e-12,\n",
       "   486.93808139872823,\n",
       "   0.0,\n",
       "   0.0,\n",
       "   0.0,\n",
       "   15.563356499578738],\n",
       "  'foot_l': [-2.7379093945337696e-12,\n",
       "   -784.1684170195072,\n",
       "   0.0,\n",
       "   -72.21456981183398,\n",
       "   2.52135822890603e-13,\n",
       "   21.721712390039563,\n",
       "   1.0377741701580314e-12,\n",
       "   297.230335620779,\n",
       "   0.0,\n",
       "   0.0,\n",
       "   0.0,\n",
       "   9.499979263210903,\n",
       "   1.7001352243757383e-12,\n",
       "   486.93808139872823,\n",
       "   0.0,\n",
       "   0.0,\n",
       "   0.0,\n",
       "   15.563356499578738],\n",
       "  'HipLimit_r': [0.0, 0.0],\n",
       "  'HipLimit_l': [0.0, 0.0],\n",
       "  'KneeLimit_r': [0.0, 0.0],\n",
       "  'KneeLimit_l': [0.0, 0.0],\n",
       "  'AnkleLimit_r': [0.0, 0.0],\n",
       "  'AnkleLimit_l': [0.0, 0.0]},\n",
       " 'muscles': {'hamstrings_r': {'activation': 0.05,\n",
       "   'fiber_length': 0.06355896214015497,\n",
       "   'fiber_velocity': 2.2006703112629593e-14,\n",
       "   'fiber_force': 202.45627069226515},\n",
       "  'bifemsh_r': {'activation': 0.05,\n",
       "   'fiber_length': 0.13434264681417837,\n",
       "   'fiber_velocity': 2.2020459195370997e-17,\n",
       "   'fiber_force': 45.09919197278584},\n",
       "  'glut_max_r': {'activation': 0.05,\n",
       "   'fiber_length': 0.160848246671718,\n",
       "   'fiber_velocity': 1.0182170682522301e-12,\n",
       "   'fiber_force': 171.78735096055726},\n",
       "  'iliopsoas_r': {'activation': 0.05,\n",
       "   'fiber_length': 0.13005768603600332,\n",
       "   'fiber_velocity': 3.347177738665895e-11,\n",
       "   'fiber_force': 159.26525950285387},\n",
       "  'rect_fem_r': {'activation': 0.05,\n",
       "   'fiber_length': 0.06027044615978444,\n",
       "   'fiber_velocity': 2.2362024955832438e-15,\n",
       "   'fiber_force': 99.63652479982161},\n",
       "  'vasti_r': {'activation': 0.05,\n",
       "   'fiber_length': 0.07890756873654932,\n",
       "   'fiber_velocity': 6.148755195015431e-15,\n",
       "   'fiber_force': 437.7385693769558},\n",
       "  'gastroc_r': {'activation': 0.05,\n",
       "   'fiber_length': 0.05720257668702345,\n",
       "   'fiber_velocity': 5.718949639274886e-14,\n",
       "   'fiber_force': 282.79456495087237},\n",
       "  'soleus_r': {'activation': 0.05,\n",
       "   'fiber_length': 0.044948141241068135,\n",
       "   'fiber_velocity': 3.4120646702110796e-10,\n",
       "   'fiber_force': 406.4161372187393},\n",
       "  'tib_ant_r': {'activation': 0.05,\n",
       "   'fiber_length': 0.06288000983990409,\n",
       "   'fiber_velocity': 8.525642140971546e-14,\n",
       "   'fiber_force': 104.5158690359632},\n",
       "  'hamstrings_l': {'activation': 0.05,\n",
       "   'fiber_length': 0.06355896214015497,\n",
       "   'fiber_velocity': 2.2006703112629593e-14,\n",
       "   'fiber_force': 202.45627069226515},\n",
       "  'bifemsh_l': {'activation': 0.05,\n",
       "   'fiber_length': 0.13434264681417837,\n",
       "   'fiber_velocity': 2.2020459195370997e-17,\n",
       "   'fiber_force': 45.09919197278584},\n",
       "  'glut_max_l': {'activation': 0.05,\n",
       "   'fiber_length': 0.160848246671718,\n",
       "   'fiber_velocity': 1.0182170682522301e-12,\n",
       "   'fiber_force': 171.78735096055726},\n",
       "  'iliopsoas_l': {'activation': 0.05,\n",
       "   'fiber_length': 0.13005768603600332,\n",
       "   'fiber_velocity': 3.347177738665895e-11,\n",
       "   'fiber_force': 159.26525950285387},\n",
       "  'rect_fem_l': {'activation': 0.05,\n",
       "   'fiber_length': 0.06027044615978444,\n",
       "   'fiber_velocity': 2.2362024955832438e-15,\n",
       "   'fiber_force': 99.63652479982161},\n",
       "  'vasti_l': {'activation': 0.05,\n",
       "   'fiber_length': 0.07890756873654932,\n",
       "   'fiber_velocity': 6.148755195015431e-15,\n",
       "   'fiber_force': 437.7385693769558},\n",
       "  'gastroc_l': {'activation': 0.05,\n",
       "   'fiber_length': 0.05720257668702345,\n",
       "   'fiber_velocity': 5.718949639274886e-14,\n",
       "   'fiber_force': 282.79456495087237},\n",
       "  'soleus_l': {'activation': 0.05,\n",
       "   'fiber_length': 0.044948141241068135,\n",
       "   'fiber_velocity': 3.4120646702110796e-10,\n",
       "   'fiber_force': 406.4161372187393},\n",
       "  'tib_ant_l': {'activation': 0.05,\n",
       "   'fiber_length': 0.06288000983990409,\n",
       "   'fiber_velocity': 8.525642140971546e-14,\n",
       "   'fiber_force': 104.5158690359632}},\n",
       " 'markers': {},\n",
       " 'misc': {'mass_center_pos': [-0.06973431783842708, 0.9707692842528318, 0.0],\n",
       "  'mass_center_vel': [0.0, 0.0, 0.0],\n",
       "  'mass_center_acc': [6.51099983060071e-14, 9.880097112757928, 0.0]}}"
      ]
     },
     "execution_count": 8,
     "metadata": {},
     "output_type": "execute_result"
    }
   ],
   "source": [
    "observation"
   ]
  },
  {
   "cell_type": "code",
   "execution_count": 22,
   "metadata": {
    "scrolled": true
   },
   "outputs": [
    {
     "data": {
      "text/plain": [
       "['PrintPropertyInfo',\n",
       " 'PropertyIndex_socket_child_frame_connectee_name',\n",
       " 'PropertyIndex_socket_parent_frame_connectee_name',\n",
       " 'RegisterType',\n",
       " 'RenameType',\n",
       " 'SafeCopy',\n",
       " '__class__',\n",
       " '__del__',\n",
       " '__delattr__',\n",
       " '__dict__',\n",
       " '__dir__',\n",
       " '__doc__',\n",
       " '__eq__',\n",
       " '__format__',\n",
       " '__ge__',\n",
       " '__getattr__',\n",
       " '__getattribute__',\n",
       " '__gt__',\n",
       " '__hash__',\n",
       " '__init__',\n",
       " '__init_subclass__',\n",
       " '__le__',\n",
       " '__lt__',\n",
       " '__module__',\n",
       " '__ne__',\n",
       " '__new__',\n",
       " '__reduce__',\n",
       " '__reduce_ex__',\n",
       " '__repr__',\n",
       " '__setattr__',\n",
       " '__sizeof__',\n",
       " '__str__',\n",
       " '__subclasshook__',\n",
       " '__swig_destroy__',\n",
       " '__swig_getmethods__',\n",
       " '__swig_setmethods__',\n",
       " '__weakref__',\n",
       " '_has_output_power',\n",
       " '_has_output_reaction_on_child',\n",
       " '_has_output_reaction_on_parent',\n",
       " '_markAdopted',\n",
       " '_s',\n",
       " 'addComponent',\n",
       " 'addToSystem',\n",
       " 'append_coordinates',\n",
       " 'append_frames',\n",
       " 'assign',\n",
       " 'calcEquivalentSpatialForce',\n",
       " 'calcPower',\n",
       " 'calcReactionOnChildExpressedInGround',\n",
       " 'calcReactionOnParentExpressedInGround',\n",
       " 'clearConnections',\n",
       " 'clone',\n",
       " 'connectSocket_child_frame',\n",
       " 'connectSocket_parent_frame',\n",
       " 'connectToModel',\n",
       " 'constructProperty_coordinates',\n",
       " 'constructProperty_frames',\n",
       " 'copyProperty_coordinates',\n",
       " 'copyProperty_frames',\n",
       " 'dump',\n",
       " 'finalizeConnections',\n",
       " 'finalizeFromProperties',\n",
       " 'generateDecorations',\n",
       " 'getAbsolutePath',\n",
       " 'getAbsolutePathString',\n",
       " 'getAuthors',\n",
       " 'getChildFrame',\n",
       " 'getClassName',\n",
       " 'getComponent',\n",
       " 'getComponentsList',\n",
       " 'getConcreteClassName',\n",
       " 'getConnectee',\n",
       " 'getCoordinate',\n",
       " 'getDebugLevel',\n",
       " 'getDefaultInstanceOfType',\n",
       " 'getDescription',\n",
       " 'getDiscreteVariableValue',\n",
       " 'getDocumentFileName',\n",
       " 'getInlined',\n",
       " 'getInput',\n",
       " 'getInputNames',\n",
       " 'getModel',\n",
       " 'getModelingOption',\n",
       " 'getName',\n",
       " 'getNumInputs',\n",
       " 'getNumOutputs',\n",
       " 'getNumProperties',\n",
       " 'getNumSockets',\n",
       " 'getNumStateVariables',\n",
       " 'getOutput',\n",
       " 'getOutputNames',\n",
       " 'getOwner',\n",
       " 'getParentFrame',\n",
       " 'getPropertyByIndex',\n",
       " 'getPropertyByName',\n",
       " 'getReferences',\n",
       " 'getRegisteredTypenames',\n",
       " 'getRelativePathName',\n",
       " 'getSerializeAllDefaults',\n",
       " 'getSocket',\n",
       " 'getSocketNames',\n",
       " 'getStateVariableDerivativeValue',\n",
       " 'getStateVariableNames',\n",
       " 'getStateVariableValue',\n",
       " 'getStateVariableValues',\n",
       " 'getSystem',\n",
       " 'get_coordinates',\n",
       " 'get_frames',\n",
       " 'hasComponent',\n",
       " 'hasOwner',\n",
       " 'hasProperty',\n",
       " 'hasSystem',\n",
       " 'initStateFromProperties',\n",
       " 'isA',\n",
       " 'isCacheVariableValid',\n",
       " 'isCoordinateUsed',\n",
       " 'isEqualTo',\n",
       " 'isKindOf',\n",
       " 'isObjectUpToDateWithProperties',\n",
       " 'makeObjectFromFile',\n",
       " 'markCacheVariableInvalid',\n",
       " 'markCacheVariableValid',\n",
       " 'newInstanceOfType',\n",
       " 'numCoordinates',\n",
       " 'postScale',\n",
       " 'preScale',\n",
       " 'printComponentsMatching',\n",
       " 'printInputInfo',\n",
       " 'printOutputInfo',\n",
       " 'printSocketInfo',\n",
       " 'printSubcomponentInfo',\n",
       " 'printToXML',\n",
       " 'readObjectFromXMLNodeOrFile',\n",
       " 'registerType',\n",
       " 'renameType',\n",
       " 'safeDownCast',\n",
       " 'scale',\n",
       " 'setAllPropertiesUseDefault',\n",
       " 'setAuthors',\n",
       " 'setDebugLevel',\n",
       " 'setDescription',\n",
       " 'setDiscreteVariableValue',\n",
       " 'setInlined',\n",
       " 'setModelingOption',\n",
       " 'setName',\n",
       " 'setPropertiesFromState',\n",
       " 'setReferences',\n",
       " 'setSerializeAllDefaults',\n",
       " 'setStateVariableValue',\n",
       " 'setStateVariableValues',\n",
       " 'set_coordinates',\n",
       " 'set_frames',\n",
       " 'this',\n",
       " 'toString',\n",
       " 'updComponent',\n",
       " 'updCoordinate',\n",
       " 'updInput',\n",
       " 'updModel',\n",
       " 'updOutput',\n",
       " 'updPropertyByIndex',\n",
       " 'updPropertyByName',\n",
       " 'updSocket',\n",
       " 'upd_coordinates',\n",
       " 'upd_frames',\n",
       " 'updateFromXMLNode',\n",
       " 'updateXMLNode']"
      ]
     },
     "execution_count": 22,
     "metadata": {},
     "output_type": "execute_result"
    }
   ],
   "source": [
    "dir(env.osim_model.get_joint('ankle_l'))"
   ]
  },
  {
   "cell_type": "code",
   "execution_count": 94,
   "metadata": {
    "scrolled": false
   },
   "outputs": [
    {
     "data": {
      "text/plain": [
       "[-0.5971462498078045]"
      ]
     },
     "execution_count": 94,
     "metadata": {},
     "output_type": "execute_result"
    }
   ],
   "source": [
    "env.osim_model.state_desc['joint_pos']['ankle_l']"
   ]
  },
  {
   "cell_type": "code",
   "execution_count": 14,
   "metadata": {},
   "outputs": [
    {
     "data": {
      "text/plain": [
       "[]"
      ]
     },
     "execution_count": 14,
     "metadata": {},
     "output_type": "execute_result"
    }
   ],
   "source": [
    "env.osim_model.bodies"
   ]
  },
  {
   "cell_type": "code",
   "execution_count": 4,
   "metadata": {},
   "outputs": [
    {
     "data": {
      "text/plain": [
       "'C:\\\\Users\\\\clvco\\\\Anaconda3\\\\envs\\\\opensim-rl\\\\lib\\\\site-packages\\\\osim\\\\env\\\\../models/gait9dof18musc.osim'"
      ]
     },
     "execution_count": 4,
     "metadata": {},
     "output_type": "execute_result"
    }
   ],
   "source": [
    "env.model_path"
   ]
  },
  {
   "cell_type": "code",
   "execution_count": 1,
   "metadata": {},
   "outputs": [],
   "source": [
    "import opensim"
   ]
  },
  {
   "cell_type": "code",
   "execution_count": 5,
   "metadata": {},
   "outputs": [],
   "source": [
    "model = opensim.Model(env.model_path)"
   ]
  },
  {
   "cell_type": "code",
   "execution_count": 7,
   "metadata": {},
   "outputs": [
    {
     "data": {
      "text/plain": [
       "<opensim.simbody.State; proxy of <Swig Object of type 'SimTK::State *' at 0x000001768E63EF60> >"
      ]
     },
     "execution_count": 7,
     "metadata": {},
     "output_type": "execute_result"
    }
   ],
   "source": [
    "model.initSystem()"
   ]
  },
  {
   "cell_type": "code",
   "execution_count": 16,
   "metadata": {},
   "outputs": [
    {
     "data": {
      "text/plain": [
       "'hamstrings_r'"
      ]
     },
     "execution_count": 16,
     "metadata": {},
     "output_type": "execute_result"
    }
   ],
   "source": [
    "model.getForceSet().get(0).getName()"
   ]
  },
  {
   "cell_type": "code",
   "execution_count": 98,
   "metadata": {},
   "outputs": [
    {
     "data": {
      "text/plain": [
       "0.004674955096276773"
      ]
     },
     "execution_count": 98,
     "metadata": {},
     "output_type": "execute_result"
    }
   ],
   "source": [
    "reward"
   ]
  },
  {
   "cell_type": "code",
   "execution_count": 100,
   "metadata": {},
   "outputs": [
    {
     "data": {
      "text/plain": [
       "0.006222903911480282"
      ]
     },
     "execution_count": 100,
     "metadata": {},
     "output_type": "execute_result"
    }
   ],
   "source": [
    "reward"
   ]
  },
  {
   "cell_type": "code",
   "execution_count": 99,
   "metadata": {},
   "outputs": [
    {
     "name": "stdout",
     "output_type": "stream",
     "text": [
      "False\n",
      "False\n",
      "False\n",
      "False\n",
      "False\n",
      "False\n",
      "False\n",
      "False\n",
      "False\n",
      "False\n",
      "False\n",
      "False\n",
      "False\n",
      "False\n",
      "False\n",
      "False\n",
      "False\n",
      "False\n",
      "False\n",
      "False\n",
      "False\n",
      "False\n",
      "False\n",
      "False\n",
      "False\n",
      "False\n",
      "False\n",
      "False\n",
      "False\n",
      "False\n",
      "False\n",
      "False\n",
      "False\n",
      "False\n",
      "False\n",
      "False\n",
      "True\n",
      "True\n",
      "True\n",
      "True\n",
      "True\n",
      "True\n",
      "True\n",
      "True\n",
      "True\n",
      "True\n"
     ]
    },
    {
     "ename": "SystemError",
     "evalue": "<built-in function Manager_integrate> returned a result with an error set",
     "output_type": "error",
     "traceback": [
      "\u001b[1;31m---------------------------------------------------------------------------\u001b[0m",
      "\u001b[1;31mKeyboardInterrupt\u001b[0m                         Traceback (most recent call last)",
      "\u001b[1;32m~\\Anaconda3\\envs\\opensim-rl\\lib\\site-packages\\opensim\\simbody.py\u001b[0m in \u001b[0;36m<lambda>\u001b[1;34m(self, name, value)\u001b[0m\n\u001b[0;32m  17487\u001b[0m     \u001b[0m__swig_setmethods__\u001b[0m \u001b[1;33m=\u001b[0m \u001b[1;33m{\u001b[0m\u001b[1;33m}\u001b[0m\u001b[1;33m\u001b[0m\u001b[0m\n\u001b[1;32m> 17488\u001b[1;33m     \u001b[0m__setattr__\u001b[0m \u001b[1;33m=\u001b[0m \u001b[1;32mlambda\u001b[0m \u001b[0mself\u001b[0m\u001b[1;33m,\u001b[0m \u001b[0mname\u001b[0m\u001b[1;33m,\u001b[0m \u001b[0mvalue\u001b[0m\u001b[1;33m:\u001b[0m \u001b[0m_swig_setattr\u001b[0m\u001b[1;33m(\u001b[0m\u001b[0mself\u001b[0m\u001b[1;33m,\u001b[0m \u001b[0mState\u001b[0m\u001b[1;33m,\u001b[0m \u001b[0mname\u001b[0m\u001b[1;33m,\u001b[0m \u001b[0mvalue\u001b[0m\u001b[1;33m)\u001b[0m\u001b[1;33m\u001b[0m\u001b[0m\n\u001b[0m\u001b[0;32m  17489\u001b[0m     \u001b[0m__swig_getmethods__\u001b[0m \u001b[1;33m=\u001b[0m \u001b[1;33m{\u001b[0m\u001b[1;33m}\u001b[0m\u001b[1;33m\u001b[0m\u001b[0m\n",
      "\u001b[1;31mKeyboardInterrupt\u001b[0m: ",
      "\nThe above exception was the direct cause of the following exception:\n",
      "\u001b[1;31mSystemError\u001b[0m                               Traceback (most recent call last)",
      "\u001b[1;32m<ipython-input-99-0e03197b4a18>\u001b[0m in \u001b[0;36m<module>\u001b[1;34m()\u001b[0m\n\u001b[0;32m      8\u001b[0m     \u001b[0mac\u001b[0m\u001b[1;33m[\u001b[0m\u001b[1;36m17\u001b[0m\u001b[1;33m]\u001b[0m \u001b[1;33m=\u001b[0m \u001b[1;36m1\u001b[0m\u001b[1;33m\u001b[0m\u001b[0m\n\u001b[0;32m      9\u001b[0m \u001b[1;33m\u001b[0m\u001b[0m\n\u001b[1;32m---> 10\u001b[1;33m     \u001b[0mobservation\u001b[0m\u001b[1;33m,\u001b[0m \u001b[0mreward\u001b[0m\u001b[1;33m,\u001b[0m \u001b[0mdone\u001b[0m\u001b[1;33m,\u001b[0m \u001b[0minfo\u001b[0m \u001b[1;33m=\u001b[0m \u001b[0menv\u001b[0m\u001b[1;33m.\u001b[0m\u001b[0mstep\u001b[0m\u001b[1;33m(\u001b[0m\u001b[0mac\u001b[0m\u001b[1;33m)\u001b[0m\u001b[1;33m\u001b[0m\u001b[0m\n\u001b[0m\u001b[0;32m     11\u001b[0m     \u001b[0mprint\u001b[0m\u001b[1;33m(\u001b[0m\u001b[0mdone\u001b[0m\u001b[1;33m)\u001b[0m\u001b[1;33m\u001b[0m\u001b[0m\n",
      "\u001b[1;32m~\\Anaconda3\\envs\\opensim-rl\\lib\\site-packages\\osim\\env\\osim.py\u001b[0m in \u001b[0;36mstep\u001b[1;34m(self, action, project)\u001b[0m\n\u001b[0;32m    345\u001b[0m         \u001b[0mself\u001b[0m\u001b[1;33m.\u001b[0m\u001b[0mprev_state_desc\u001b[0m \u001b[1;33m=\u001b[0m \u001b[0mself\u001b[0m\u001b[1;33m.\u001b[0m\u001b[0mget_state_desc\u001b[0m\u001b[1;33m(\u001b[0m\u001b[1;33m)\u001b[0m\u001b[1;33m\u001b[0m\u001b[0m\n\u001b[0;32m    346\u001b[0m         \u001b[0mself\u001b[0m\u001b[1;33m.\u001b[0m\u001b[0mosim_model\u001b[0m\u001b[1;33m.\u001b[0m\u001b[0mactuate\u001b[0m\u001b[1;33m(\u001b[0m\u001b[0maction\u001b[0m\u001b[1;33m)\u001b[0m\u001b[1;33m\u001b[0m\u001b[0m\n\u001b[1;32m--> 347\u001b[1;33m         \u001b[0mself\u001b[0m\u001b[1;33m.\u001b[0m\u001b[0mosim_model\u001b[0m\u001b[1;33m.\u001b[0m\u001b[0mintegrate\u001b[0m\u001b[1;33m(\u001b[0m\u001b[1;33m)\u001b[0m\u001b[1;33m\u001b[0m\u001b[0m\n\u001b[0m\u001b[0;32m    348\u001b[0m \u001b[1;33m\u001b[0m\u001b[0m\n\u001b[0;32m    349\u001b[0m         \u001b[1;32mif\u001b[0m \u001b[0mproject\u001b[0m\u001b[1;33m:\u001b[0m\u001b[1;33m\u001b[0m\u001b[0m\n",
      "\u001b[1;32m~\\Anaconda3\\envs\\opensim-rl\\lib\\site-packages\\osim\\env\\osim.py\u001b[0m in \u001b[0;36mintegrate\u001b[1;34m(self)\u001b[0m\n\u001b[0;32m    254\u001b[0m \u001b[1;33m\u001b[0m\u001b[0m\n\u001b[0;32m    255\u001b[0m         \u001b[1;31m# Integrate till the new endtime\u001b[0m\u001b[1;33m\u001b[0m\u001b[1;33m\u001b[0m\u001b[0m\n\u001b[1;32m--> 256\u001b[1;33m         \u001b[0mself\u001b[0m\u001b[1;33m.\u001b[0m\u001b[0mstate\u001b[0m \u001b[1;33m=\u001b[0m \u001b[0mself\u001b[0m\u001b[1;33m.\u001b[0m\u001b[0mmanager\u001b[0m\u001b[1;33m.\u001b[0m\u001b[0mintegrate\u001b[0m\u001b[1;33m(\u001b[0m\u001b[0mself\u001b[0m\u001b[1;33m.\u001b[0m\u001b[0mstepsize\u001b[0m \u001b[1;33m*\u001b[0m \u001b[0mself\u001b[0m\u001b[1;33m.\u001b[0m\u001b[0mistep\u001b[0m\u001b[1;33m)\u001b[0m\u001b[1;33m\u001b[0m\u001b[0m\n\u001b[0m\u001b[0;32m    257\u001b[0m \u001b[1;33m\u001b[0m\u001b[0m\n\u001b[0;32m    258\u001b[0m \u001b[1;33m\u001b[0m\u001b[0m\n",
      "\u001b[1;32m~\\Anaconda3\\envs\\opensim-rl\\lib\\site-packages\\opensim\\simulation.py\u001b[0m in \u001b[0;36mintegrate\u001b[1;34m(self, finalTime)\u001b[0m\n\u001b[0;32m  38005\u001b[0m \u001b[1;33m\u001b[0m\u001b[0m\n\u001b[0;32m  38006\u001b[0m         \"\"\"\n\u001b[1;32m> 38007\u001b[1;33m         \u001b[1;32mreturn\u001b[0m \u001b[0m_simulation\u001b[0m\u001b[1;33m.\u001b[0m\u001b[0mManager_integrate\u001b[0m\u001b[1;33m(\u001b[0m\u001b[0mself\u001b[0m\u001b[1;33m,\u001b[0m \u001b[0mfinalTime\u001b[0m\u001b[1;33m)\u001b[0m\u001b[1;33m\u001b[0m\u001b[0m\n\u001b[0m\u001b[0;32m  38008\u001b[0m \u001b[1;33m\u001b[0m\u001b[0m\n\u001b[0;32m  38009\u001b[0m \u001b[1;33m\u001b[0m\u001b[0m\n",
      "\u001b[1;31mSystemError\u001b[0m: <built-in function Manager_integrate> returned a result with an error set"
     ]
    }
   ],
   "source": [
    "\n",
    "# env = L2RunEnv(visualize=True)\n",
    "# observation = env.reset()\n",
    "\n",
    "for i in range(50):\n",
    "    ac = env.action_space.sample()\n",
    "    ac[:] = 0\n",
    "    ac[17] = 1\n",
    "    \n",
    "    observation, reward, done, info = env.step(ac)\n",
    "    print(done)"
   ]
  },
  {
   "cell_type": "code",
   "execution_count": 3,
   "metadata": {},
   "outputs": [],
   "source": [
    "def get_zeta(overshoot):\n",
    "    x = math.log(overshoot)\n",
    "    x = x/math.sqrt(math.log(overshoot)**2 + math.pi**2)\n",
    "    print(\"ZETA: \", -x)\n",
    "    return -x\n",
    "\n",
    "def get_omega(tp, zeta):\n",
    "    wn = math.pi/(tp*math.sqrt(1-zeta**2))\n",
    "    print(\"OMEGA_N\", wn)\n",
    "    return wn\n",
    "\n",
    "def get_tau(zeta, omega_n):\n",
    "    t = 1/(2*zeta*omega_n)\n",
    "    print(\"TAU\", t)\n",
    "    return t\n",
    "\n",
    "def get_k1(kp, omega_n, tau):\n",
    "    k1 = (omega_n**2)*tau/kp\n",
    "    print(\"K1\", k1)\n",
    "    return k1"
   ]
  },
  {
   "cell_type": "code",
   "execution_count": 8,
   "metadata": {},
   "outputs": [
    {
     "data": {
      "text/plain": [
       "0.012"
      ]
     },
     "execution_count": 8,
     "metadata": {},
     "output_type": "execute_result"
    }
   ],
   "source": [
    "0.02*0.6"
   ]
  },
  {
   "cell_type": "code",
   "execution_count": 16,
   "metadata": {},
   "outputs": [
    {
     "name": "stdout",
     "output_type": "stream",
     "text": [
      "OS: 0.08000000000000007\n",
      "ZETA:  0.6265771868559203\n",
      "PEAKTIME: 0.11800000000000033\n",
      "OMEGA_N 34.16096290373316\n",
      "TAU 0.02335959570833432\n",
      "K1 2.319998280176458\n"
     ]
    },
    {
     "data": {
      "text/plain": [
       "2.319998280176458"
      ]
     },
     "execution_count": 16,
     "metadata": {},
     "output_type": "execute_result"
    }
   ],
   "source": [
    "mag_target = 0.4\n",
    "mag_actual = 0.2 + 0.232\n",
    "square_start = 5\n",
    "square_end = 5.118\n",
    "KP = 11.75\n",
    "OS = (mag_actual - mag_target)/mag_target\n",
    "print(\"OS:\", OS)\n",
    "zeta = get_zeta(OS)\n",
    "peaktime = square_end - square_start\n",
    "print(\"PEAKTIME:\", peaktime)\n",
    "wn = get_omega(peaktime, zeta)\n",
    "tau = get_tau(zeta, wn)\n",
    "get_k1(KP, wn, tau)"
   ]
  },
  {
   "cell_type": "code",
   "execution_count": 24,
   "metadata": {},
   "outputs": [
    {
     "name": "stdout",
     "output_type": "stream",
     "text": [
      "TAU 0.1176887277761934\n"
     ]
    }
   ],
   "source": [
    "2.188216135490001"
   ]
  },
  {
   "cell_type": "code",
   "execution_count": 25,
   "metadata": {},
   "outputs": [
    {
     "name": "stdout",
     "output_type": "stream",
     "text": [
      "K1 0.4693984009490294\n"
     ]
    },
    {
     "data": {
      "text/plain": [
       "0.4693984009490294"
      ]
     },
     "execution_count": 25,
     "metadata": {},
     "output_type": "execute_result"
    }
   ],
   "source": []
  }
 ],
 "metadata": {
  "kernelspec": {
   "display_name": "Python [default]",
   "language": "python",
   "name": "python3"
  },
  "language_info": {
   "codemirror_mode": {
    "name": "ipython",
    "version": 3
   },
   "file_extension": ".py",
   "mimetype": "text/x-python",
   "name": "python",
   "nbconvert_exporter": "python",
   "pygments_lexer": "ipython3",
   "version": "3.6.1"
  }
 },
 "nbformat": 4,
 "nbformat_minor": 2
}
